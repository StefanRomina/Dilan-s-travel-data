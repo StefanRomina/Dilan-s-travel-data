{
 "cells": [
  {
   "cell_type": "code",
   "execution_count": 1,
   "metadata": {},
   "outputs": [],
   "source": [
    "import numpy as np\n",
    "import pandas as pd\n",
    "import matplotlib\n",
    "import matplotlib.pyplot as plt\n",
    "%matplotlib inline\n",
    "import seaborn as sns"
   ]
  },
  {
   "cell_type": "code",
   "execution_count": 2,
   "metadata": {},
   "outputs": [
    {
     "data": {
      "text/html": [
       "<div>\n",
       "<style scoped>\n",
       "    .dataframe tbody tr th:only-of-type {\n",
       "        vertical-align: middle;\n",
       "    }\n",
       "\n",
       "    .dataframe tbody tr th {\n",
       "        vertical-align: top;\n",
       "    }\n",
       "\n",
       "    .dataframe thead th {\n",
       "        text-align: right;\n",
       "    }\n",
       "</style>\n",
       "<table border=\"1\" class=\"dataframe\">\n",
       "  <thead>\n",
       "    <tr style=\"text-align: right;\">\n",
       "      <th></th>\n",
       "      <th>my_date</th>\n",
       "      <th>event</th>\n",
       "      <th>country</th>\n",
       "      <th>user_id</th>\n",
       "      <th>source</th>\n",
       "      <th>topic</th>\n",
       "    </tr>\n",
       "  </thead>\n",
       "  <tbody>\n",
       "    <tr>\n",
       "      <td>0</td>\n",
       "      <td>2018-01-01 00:01:01</td>\n",
       "      <td>read</td>\n",
       "      <td>country_7</td>\n",
       "      <td>2.458151e+09</td>\n",
       "      <td>SEO</td>\n",
       "      <td>North America</td>\n",
       "    </tr>\n",
       "    <tr>\n",
       "      <td>1</td>\n",
       "      <td>2018-01-01 00:03:20</td>\n",
       "      <td>read</td>\n",
       "      <td>country_7</td>\n",
       "      <td>2.458151e+09</td>\n",
       "      <td>SEO</td>\n",
       "      <td>South America</td>\n",
       "    </tr>\n",
       "    <tr>\n",
       "      <td>2</td>\n",
       "      <td>2018-01-01 00:04:01</td>\n",
       "      <td>read</td>\n",
       "      <td>country_7</td>\n",
       "      <td>2.458151e+09</td>\n",
       "      <td>AdWords</td>\n",
       "      <td>Africa</td>\n",
       "    </tr>\n",
       "    <tr>\n",
       "      <td>3</td>\n",
       "      <td>2018-01-01 00:04:02</td>\n",
       "      <td>read</td>\n",
       "      <td>country_7</td>\n",
       "      <td>2.458151e+09</td>\n",
       "      <td>AdWords</td>\n",
       "      <td>Europe</td>\n",
       "    </tr>\n",
       "    <tr>\n",
       "      <td>4</td>\n",
       "      <td>2018-01-01 00:05:03</td>\n",
       "      <td>read</td>\n",
       "      <td>country_8</td>\n",
       "      <td>2.458151e+09</td>\n",
       "      <td>Reddit</td>\n",
       "      <td>North America</td>\n",
       "    </tr>\n",
       "  </tbody>\n",
       "</table>\n",
       "</div>"
      ],
      "text/plain": [
       "               my_date event    country       user_id   source          topic\n",
       "0  2018-01-01 00:01:01  read  country_7  2.458151e+09      SEO  North America\n",
       "1  2018-01-01 00:03:20  read  country_7  2.458151e+09      SEO  South America\n",
       "2  2018-01-01 00:04:01  read  country_7  2.458151e+09  AdWords         Africa\n",
       "3  2018-01-01 00:04:02  read  country_7  2.458151e+09  AdWords         Europe\n",
       "4  2018-01-01 00:05:03  read  country_8  2.458151e+09   Reddit  North America"
      ]
     },
     "execution_count": 2,
     "metadata": {},
     "output_type": "execute_result"
    }
   ],
   "source": [
    "dilan = pd.read_csv('dilans_data.csv', delimiter = ';', names = ['my_date', 'event', 'country', 'user_id', 'source', 'topic'])\n",
    "dilan.head()"
   ]
  },
  {
   "cell_type": "code",
   "execution_count": 3,
   "metadata": {},
   "outputs": [
    {
     "name": "stdout",
     "output_type": "stream",
     "text": [
      "<class 'pandas.core.frame.DataFrame'>\n",
      "RangeIndex: 597902 entries, 0 to 597901\n",
      "Data columns (total 6 columns):\n",
      "my_date    597902 non-null object\n",
      "event      597902 non-null object\n",
      "country    597902 non-null object\n",
      "user_id    590284 non-null float64\n",
      "source     581877 non-null object\n",
      "topic      210023 non-null object\n",
      "dtypes: float64(1), object(5)\n",
      "memory usage: 27.4+ MB\n"
     ]
    }
   ],
   "source": [
    "dilan.info()"
   ]
  },
  {
   "cell_type": "code",
   "execution_count": 4,
   "metadata": {},
   "outputs": [
    {
     "data": {
      "text/plain": [
       "(597902, 6)"
      ]
     },
     "execution_count": 4,
     "metadata": {},
     "output_type": "execute_result"
    }
   ],
   "source": [
    "dilan.shape"
   ]
  },
  {
   "cell_type": "code",
   "execution_count": 5,
   "metadata": {},
   "outputs": [
    {
     "data": {
      "text/plain": [
       "read         581877\n",
       "buy            8407\n",
       "subscribe      7618\n",
       "Name: event, dtype: int64"
      ]
     },
     "execution_count": 5,
     "metadata": {},
     "output_type": "execute_result"
    }
   ],
   "source": [
    "dilan.event.value_counts()"
   ]
  },
  {
   "cell_type": "code",
   "execution_count": 6,
   "metadata": {},
   "outputs": [
    {
     "data": {
      "text/plain": [
       "country_5     149732\n",
       "country_7     132067\n",
       "country_2     130076\n",
       "country_4      71258\n",
       "country_6      63752\n",
       "               ...  \n",
       "2458324793         1\n",
       "2458186203         1\n",
       "2458259298         1\n",
       "2458158325         1\n",
       "2458345512         1\n",
       "Name: country, Length: 9198, dtype: int64"
      ]
     },
     "execution_count": 6,
     "metadata": {},
     "output_type": "execute_result"
    }
   ],
   "source": [
    "dilan.country.value_counts()"
   ]
  },
  {
   "cell_type": "code",
   "execution_count": 8,
   "metadata": {},
   "outputs": [
    {
     "data": {
      "text/plain": [
       "8.000000e+00    6640\n",
       "8.000000e+01    1767\n",
       "2.458174e+09      58\n",
       "2.458284e+09      52\n",
       "2.458281e+09      52\n",
       "                ... \n",
       "2.458185e+09       1\n",
       "2.458318e+09       1\n",
       "2.458258e+09       1\n",
       "2.458261e+09       1\n",
       "2.458322e+09       1\n",
       "Name: user_id, Length: 210025, dtype: int64"
      ]
     },
     "execution_count": 8,
     "metadata": {},
     "output_type": "execute_result"
    }
   ],
   "source": [
    "dilan.user_id.value_counts()   #  in this column users are mixed with the 2 products: e-book of 8 $ and video of 80 $."
   ]
  },
  {
   "cell_type": "markdown",
   "metadata": {},
   "source": [
    "##### READ event"
   ]
  },
  {
   "cell_type": "code",
   "execution_count": 9,
   "metadata": {},
   "outputs": [
    {
     "data": {
      "text/html": [
       "<div>\n",
       "<style scoped>\n",
       "    .dataframe tbody tr th:only-of-type {\n",
       "        vertical-align: middle;\n",
       "    }\n",
       "\n",
       "    .dataframe tbody tr th {\n",
       "        vertical-align: top;\n",
       "    }\n",
       "\n",
       "    .dataframe thead th {\n",
       "        text-align: right;\n",
       "    }\n",
       "</style>\n",
       "<table border=\"1\" class=\"dataframe\">\n",
       "  <thead>\n",
       "    <tr style=\"text-align: right;\">\n",
       "      <th></th>\n",
       "      <th>my_date</th>\n",
       "      <th>event</th>\n",
       "      <th>country</th>\n",
       "      <th>user_id</th>\n",
       "      <th>source</th>\n",
       "      <th>topic</th>\n",
       "    </tr>\n",
       "  </thead>\n",
       "  <tbody>\n",
       "    <tr>\n",
       "      <td>0</td>\n",
       "      <td>2018-01-01 00:01:01</td>\n",
       "      <td>read</td>\n",
       "      <td>country_7</td>\n",
       "      <td>2.458151e+09</td>\n",
       "      <td>SEO</td>\n",
       "      <td>North America</td>\n",
       "    </tr>\n",
       "    <tr>\n",
       "      <td>1</td>\n",
       "      <td>2018-01-01 00:03:20</td>\n",
       "      <td>read</td>\n",
       "      <td>country_7</td>\n",
       "      <td>2.458151e+09</td>\n",
       "      <td>SEO</td>\n",
       "      <td>South America</td>\n",
       "    </tr>\n",
       "    <tr>\n",
       "      <td>2</td>\n",
       "      <td>2018-01-01 00:04:01</td>\n",
       "      <td>read</td>\n",
       "      <td>country_7</td>\n",
       "      <td>2.458151e+09</td>\n",
       "      <td>AdWords</td>\n",
       "      <td>Africa</td>\n",
       "    </tr>\n",
       "    <tr>\n",
       "      <td>3</td>\n",
       "      <td>2018-01-01 00:04:02</td>\n",
       "      <td>read</td>\n",
       "      <td>country_7</td>\n",
       "      <td>2.458151e+09</td>\n",
       "      <td>AdWords</td>\n",
       "      <td>Europe</td>\n",
       "    </tr>\n",
       "    <tr>\n",
       "      <td>4</td>\n",
       "      <td>2018-01-01 00:05:03</td>\n",
       "      <td>read</td>\n",
       "      <td>country_8</td>\n",
       "      <td>2.458151e+09</td>\n",
       "      <td>Reddit</td>\n",
       "      <td>North America</td>\n",
       "    </tr>\n",
       "  </tbody>\n",
       "</table>\n",
       "</div>"
      ],
      "text/plain": [
       "               my_date event    country       user_id   source          topic\n",
       "0  2018-01-01 00:01:01  read  country_7  2.458151e+09      SEO  North America\n",
       "1  2018-01-01 00:03:20  read  country_7  2.458151e+09      SEO  South America\n",
       "2  2018-01-01 00:04:01  read  country_7  2.458151e+09  AdWords         Africa\n",
       "3  2018-01-01 00:04:02  read  country_7  2.458151e+09  AdWords         Europe\n",
       "4  2018-01-01 00:05:03  read  country_8  2.458151e+09   Reddit  North America"
      ]
     },
     "execution_count": 9,
     "metadata": {},
     "output_type": "execute_result"
    }
   ],
   "source": [
    "read = dilan[dilan.event == 'read']\n",
    "read.head()"
   ]
  },
  {
   "cell_type": "code",
   "execution_count": 10,
   "metadata": {},
   "outputs": [
    {
     "data": {
      "text/plain": [
       "210023"
      ]
     },
     "execution_count": 10,
     "metadata": {},
     "output_type": "execute_result"
    }
   ],
   "source": [
    "read.user_id.nunique()   # unique number of readers"
   ]
  },
  {
   "cell_type": "code",
   "execution_count": 11,
   "metadata": {},
   "outputs": [
    {
     "data": {
      "text/plain": [
       "Asia             118833\n",
       "Reddit           105216\n",
       "North America     92767\n",
       "AdWords           63065\n",
       "Europe            54136\n",
       "South America     51706\n",
       "SEO               41742\n",
       "Africa            27481\n",
       "Australia         26931\n",
       "Name: source, dtype: int64"
      ]
     },
     "execution_count": 11,
     "metadata": {},
     "output_type": "execute_result"
    }
   ],
   "source": [
    "read.source.value_counts()"
   ]
  },
  {
   "cell_type": "code",
   "execution_count": 12,
   "metadata": {},
   "outputs": [
    {
     "data": {
      "text/plain": [
       "Asia             76092\n",
       "Europe           39561\n",
       "North America    37567\n",
       "South America    25095\n",
       "Africa           15913\n",
       "Australia        15795\n",
       "Name: topic, dtype: int64"
      ]
     },
     "execution_count": 12,
     "metadata": {},
     "output_type": "execute_result"
    }
   ],
   "source": [
    "read.topic.value_counts()"
   ]
  },
  {
   "cell_type": "markdown",
   "metadata": {},
   "source": [
    "We can see above that the source column is mixed with the topic one."
   ]
  },
  {
   "cell_type": "code",
   "execution_count": 13,
   "metadata": {},
   "outputs": [],
   "source": [
    "source_values = ['Reddit', 'SEO', 'AdWords']"
   ]
  },
  {
   "cell_type": "code",
   "execution_count": 14,
   "metadata": {},
   "outputs": [],
   "source": [
    "topic_values = ['Asia', 'Europe', 'North America', 'South America', 'Africa', 'Australia']"
   ]
  },
  {
   "cell_type": "code",
   "execution_count": 15,
   "metadata": {},
   "outputs": [
    {
     "data": {
      "text/html": [
       "<div>\n",
       "<style scoped>\n",
       "    .dataframe tbody tr th:only-of-type {\n",
       "        vertical-align: middle;\n",
       "    }\n",
       "\n",
       "    .dataframe tbody tr th {\n",
       "        vertical-align: top;\n",
       "    }\n",
       "\n",
       "    .dataframe thead th {\n",
       "        text-align: right;\n",
       "    }\n",
       "</style>\n",
       "<table border=\"1\" class=\"dataframe\">\n",
       "  <thead>\n",
       "    <tr style=\"text-align: right;\">\n",
       "      <th></th>\n",
       "      <th>my_date</th>\n",
       "      <th>event</th>\n",
       "      <th>country</th>\n",
       "      <th>user_id</th>\n",
       "      <th>source</th>\n",
       "      <th>topic</th>\n",
       "    </tr>\n",
       "  </thead>\n",
       "  <tbody>\n",
       "    <tr>\n",
       "      <td>170</td>\n",
       "      <td>2018-01-01 02:20:18</td>\n",
       "      <td>read</td>\n",
       "      <td>country_5</td>\n",
       "      <td>2.458151e+09</td>\n",
       "      <td>North America</td>\n",
       "      <td>NaN</td>\n",
       "    </tr>\n",
       "    <tr>\n",
       "      <td>211</td>\n",
       "      <td>2018-01-01 02:53:39</td>\n",
       "      <td>read</td>\n",
       "      <td>country_4</td>\n",
       "      <td>2.458151e+09</td>\n",
       "      <td>Asia</td>\n",
       "      <td>NaN</td>\n",
       "    </tr>\n",
       "    <tr>\n",
       "      <td>278</td>\n",
       "      <td>2018-01-01 03:34:22</td>\n",
       "      <td>read</td>\n",
       "      <td>country_4</td>\n",
       "      <td>2.458152e+09</td>\n",
       "      <td>Africa</td>\n",
       "      <td>NaN</td>\n",
       "    </tr>\n",
       "    <tr>\n",
       "      <td>281</td>\n",
       "      <td>2018-01-01 03:36:18</td>\n",
       "      <td>read</td>\n",
       "      <td>country_5</td>\n",
       "      <td>2.458151e+09</td>\n",
       "      <td>Asia</td>\n",
       "      <td>NaN</td>\n",
       "    </tr>\n",
       "    <tr>\n",
       "      <td>286</td>\n",
       "      <td>2018-01-01 03:40:42</td>\n",
       "      <td>read</td>\n",
       "      <td>country_5</td>\n",
       "      <td>2.458151e+09</td>\n",
       "      <td>South America</td>\n",
       "      <td>NaN</td>\n",
       "    </tr>\n",
       "  </tbody>\n",
       "</table>\n",
       "</div>"
      ],
      "text/plain": [
       "                 my_date event    country       user_id         source topic\n",
       "170  2018-01-01 02:20:18  read  country_5  2.458151e+09  North America   NaN\n",
       "211  2018-01-01 02:53:39  read  country_4  2.458151e+09           Asia   NaN\n",
       "278  2018-01-01 03:34:22  read  country_4  2.458152e+09         Africa   NaN\n",
       "281  2018-01-01 03:36:18  read  country_5  2.458151e+09           Asia   NaN\n",
       "286  2018-01-01 03:40:42  read  country_5  2.458151e+09  South America   NaN"
      ]
     },
     "execution_count": 15,
     "metadata": {},
     "output_type": "execute_result"
    }
   ],
   "source": [
    "returning_readers = read[read.source.isin(topic_values)]\n",
    "returning_readers.head()"
   ]
  },
  {
   "cell_type": "code",
   "execution_count": 16,
   "metadata": {},
   "outputs": [
    {
     "data": {
      "text/plain": [
       "(371854, 6)"
      ]
     },
     "execution_count": 16,
     "metadata": {},
     "output_type": "execute_result"
    }
   ],
   "source": [
    "returning_readers.shape"
   ]
  },
  {
   "cell_type": "code",
   "execution_count": 18,
   "metadata": {},
   "outputs": [
    {
     "data": {
      "text/plain": [
       "66231"
      ]
     },
     "execution_count": 18,
     "metadata": {},
     "output_type": "execute_result"
    }
   ],
   "source": [
    "returning_readers.user_id.nunique() # unique returning users"
   ]
  },
  {
   "cell_type": "code",
   "execution_count": 19,
   "metadata": {},
   "outputs": [
    {
     "data": {
      "text/plain": [
       "2.458174e+09    57\n",
       "2.458198e+09    51\n",
       "2.458203e+09    51\n",
       "2.458284e+09    51\n",
       "2.458281e+09    51\n",
       "                ..\n",
       "2.458330e+09     1\n",
       "2.458207e+09     1\n",
       "2.458361e+09     1\n",
       "2.458214e+09     1\n",
       "2.458243e+09     1\n",
       "Name: user_id, Length: 66231, dtype: int64"
      ]
     },
     "execution_count": 19,
     "metadata": {},
     "output_type": "execute_result"
    }
   ],
   "source": [
    "returning_readers.user_id.value_counts()"
   ]
  },
  {
   "cell_type": "code",
   "execution_count": 20,
   "metadata": {},
   "outputs": [
    {
     "name": "stderr",
     "output_type": "stream",
     "text": [
      "C:\\Users\\OMEN\\Anaconda3\\lib\\site-packages\\pandas\\core\\frame.py:4102: SettingWithCopyWarning: \n",
      "A value is trying to be set on a copy of a slice from a DataFrame\n",
      "\n",
      "See the caveats in the documentation: http://pandas.pydata.org/pandas-docs/stable/user_guide/indexing.html#returning-a-view-versus-a-copy\n",
      "  errors=errors,\n"
     ]
    }
   ],
   "source": [
    "returning_readers.drop(['topic'], axis=1, inplace=True)"
   ]
  },
  {
   "cell_type": "code",
   "execution_count": 21,
   "metadata": {},
   "outputs": [
    {
     "name": "stderr",
     "output_type": "stream",
     "text": [
      "C:\\Users\\OMEN\\Anaconda3\\lib\\site-packages\\pandas\\core\\frame.py:4223: SettingWithCopyWarning: \n",
      "A value is trying to be set on a copy of a slice from a DataFrame\n",
      "\n",
      "See the caveats in the documentation: http://pandas.pydata.org/pandas-docs/stable/user_guide/indexing.html#returning-a-view-versus-a-copy\n",
      "  return super().rename(**kwargs)\n"
     ]
    }
   ],
   "source": [
    "returning_readers.rename({'source': 'topic'}, axis=1, inplace=True)"
   ]
  },
  {
   "cell_type": "code",
   "execution_count": 22,
   "metadata": {},
   "outputs": [
    {
     "data": {
      "text/html": [
       "<div>\n",
       "<style scoped>\n",
       "    .dataframe tbody tr th:only-of-type {\n",
       "        vertical-align: middle;\n",
       "    }\n",
       "\n",
       "    .dataframe tbody tr th {\n",
       "        vertical-align: top;\n",
       "    }\n",
       "\n",
       "    .dataframe thead th {\n",
       "        text-align: right;\n",
       "    }\n",
       "</style>\n",
       "<table border=\"1\" class=\"dataframe\">\n",
       "  <thead>\n",
       "    <tr style=\"text-align: right;\">\n",
       "      <th></th>\n",
       "      <th>my_date</th>\n",
       "      <th>event</th>\n",
       "      <th>country</th>\n",
       "      <th>user_id</th>\n",
       "      <th>topic</th>\n",
       "    </tr>\n",
       "  </thead>\n",
       "  <tbody>\n",
       "    <tr>\n",
       "      <td>170</td>\n",
       "      <td>2018-01-01 02:20:18</td>\n",
       "      <td>read</td>\n",
       "      <td>country_5</td>\n",
       "      <td>2.458151e+09</td>\n",
       "      <td>North America</td>\n",
       "    </tr>\n",
       "    <tr>\n",
       "      <td>211</td>\n",
       "      <td>2018-01-01 02:53:39</td>\n",
       "      <td>read</td>\n",
       "      <td>country_4</td>\n",
       "      <td>2.458151e+09</td>\n",
       "      <td>Asia</td>\n",
       "    </tr>\n",
       "    <tr>\n",
       "      <td>278</td>\n",
       "      <td>2018-01-01 03:34:22</td>\n",
       "      <td>read</td>\n",
       "      <td>country_4</td>\n",
       "      <td>2.458152e+09</td>\n",
       "      <td>Africa</td>\n",
       "    </tr>\n",
       "    <tr>\n",
       "      <td>281</td>\n",
       "      <td>2018-01-01 03:36:18</td>\n",
       "      <td>read</td>\n",
       "      <td>country_5</td>\n",
       "      <td>2.458151e+09</td>\n",
       "      <td>Asia</td>\n",
       "    </tr>\n",
       "    <tr>\n",
       "      <td>286</td>\n",
       "      <td>2018-01-01 03:40:42</td>\n",
       "      <td>read</td>\n",
       "      <td>country_5</td>\n",
       "      <td>2.458151e+09</td>\n",
       "      <td>South America</td>\n",
       "    </tr>\n",
       "  </tbody>\n",
       "</table>\n",
       "</div>"
      ],
      "text/plain": [
       "                 my_date event    country       user_id          topic\n",
       "170  2018-01-01 02:20:18  read  country_5  2.458151e+09  North America\n",
       "211  2018-01-01 02:53:39  read  country_4  2.458151e+09           Asia\n",
       "278  2018-01-01 03:34:22  read  country_4  2.458152e+09         Africa\n",
       "281  2018-01-01 03:36:18  read  country_5  2.458151e+09           Asia\n",
       "286  2018-01-01 03:40:42  read  country_5  2.458151e+09  South America"
      ]
     },
     "execution_count": 22,
     "metadata": {},
     "output_type": "execute_result"
    }
   ],
   "source": [
    "returning_readers.head()"
   ]
  },
  {
   "cell_type": "code",
   "execution_count": 23,
   "metadata": {},
   "outputs": [
    {
     "data": {
      "text/plain": [
       "Asia             118833\n",
       "North America     92767\n",
       "Europe            54136\n",
       "South America     51706\n",
       "Africa            27481\n",
       "Australia         26931\n",
       "Name: topic, dtype: int64"
      ]
     },
     "execution_count": 23,
     "metadata": {},
     "output_type": "execute_result"
    }
   ],
   "source": [
    "returning_readers.topic.value_counts()"
   ]
  },
  {
   "cell_type": "code",
   "execution_count": 24,
   "metadata": {},
   "outputs": [
    {
     "name": "stdout",
     "output_type": "stream",
     "text": [
      "<class 'pandas.core.frame.DataFrame'>\n",
      "Int64Index: 371854 entries, 170 to 597901\n",
      "Data columns (total 5 columns):\n",
      "my_date    371854 non-null object\n",
      "event      371854 non-null object\n",
      "country    371854 non-null object\n",
      "user_id    371854 non-null float64\n",
      "topic      371854 non-null object\n",
      "dtypes: float64(1), object(4)\n",
      "memory usage: 17.0+ MB\n"
     ]
    }
   ],
   "source": [
    "returning_readers.info()"
   ]
  },
  {
   "cell_type": "code",
   "execution_count": 25,
   "metadata": {},
   "outputs": [
    {
     "data": {
      "text/html": [
       "<div>\n",
       "<style scoped>\n",
       "    .dataframe tbody tr th:only-of-type {\n",
       "        vertical-align: middle;\n",
       "    }\n",
       "\n",
       "    .dataframe tbody tr th {\n",
       "        vertical-align: top;\n",
       "    }\n",
       "\n",
       "    .dataframe thead th {\n",
       "        text-align: right;\n",
       "    }\n",
       "</style>\n",
       "<table border=\"1\" class=\"dataframe\">\n",
       "  <thead>\n",
       "    <tr style=\"text-align: right;\">\n",
       "      <th></th>\n",
       "      <th>my_date</th>\n",
       "      <th>event</th>\n",
       "      <th>country</th>\n",
       "      <th>user_id</th>\n",
       "      <th>source</th>\n",
       "      <th>topic</th>\n",
       "    </tr>\n",
       "  </thead>\n",
       "  <tbody>\n",
       "    <tr>\n",
       "      <td>0</td>\n",
       "      <td>2018-01-01 00:01:01</td>\n",
       "      <td>read</td>\n",
       "      <td>country_7</td>\n",
       "      <td>2.458151e+09</td>\n",
       "      <td>SEO</td>\n",
       "      <td>North America</td>\n",
       "    </tr>\n",
       "    <tr>\n",
       "      <td>1</td>\n",
       "      <td>2018-01-01 00:03:20</td>\n",
       "      <td>read</td>\n",
       "      <td>country_7</td>\n",
       "      <td>2.458151e+09</td>\n",
       "      <td>SEO</td>\n",
       "      <td>South America</td>\n",
       "    </tr>\n",
       "    <tr>\n",
       "      <td>2</td>\n",
       "      <td>2018-01-01 00:04:01</td>\n",
       "      <td>read</td>\n",
       "      <td>country_7</td>\n",
       "      <td>2.458151e+09</td>\n",
       "      <td>AdWords</td>\n",
       "      <td>Africa</td>\n",
       "    </tr>\n",
       "    <tr>\n",
       "      <td>3</td>\n",
       "      <td>2018-01-01 00:04:02</td>\n",
       "      <td>read</td>\n",
       "      <td>country_7</td>\n",
       "      <td>2.458151e+09</td>\n",
       "      <td>AdWords</td>\n",
       "      <td>Europe</td>\n",
       "    </tr>\n",
       "    <tr>\n",
       "      <td>4</td>\n",
       "      <td>2018-01-01 00:05:03</td>\n",
       "      <td>read</td>\n",
       "      <td>country_8</td>\n",
       "      <td>2.458151e+09</td>\n",
       "      <td>Reddit</td>\n",
       "      <td>North America</td>\n",
       "    </tr>\n",
       "  </tbody>\n",
       "</table>\n",
       "</div>"
      ],
      "text/plain": [
       "               my_date event    country       user_id   source          topic\n",
       "0  2018-01-01 00:01:01  read  country_7  2.458151e+09      SEO  North America\n",
       "1  2018-01-01 00:03:20  read  country_7  2.458151e+09      SEO  South America\n",
       "2  2018-01-01 00:04:01  read  country_7  2.458151e+09  AdWords         Africa\n",
       "3  2018-01-01 00:04:02  read  country_7  2.458151e+09  AdWords         Europe\n",
       "4  2018-01-01 00:05:03  read  country_8  2.458151e+09   Reddit  North America"
      ]
     },
     "execution_count": 25,
     "metadata": {},
     "output_type": "execute_result"
    }
   ],
   "source": [
    "#  Select only the first time readers\n",
    "\n",
    "read_first = read[read.source.isin(source_values)]\n",
    "read_first.head()"
   ]
  },
  {
   "cell_type": "code",
   "execution_count": 27,
   "metadata": {},
   "outputs": [
    {
     "data": {
      "text/plain": [
       "(210023, 6)"
      ]
     },
     "execution_count": 27,
     "metadata": {},
     "output_type": "execute_result"
    }
   ],
   "source": [
    "read_first.shape   #  First time readers"
   ]
  },
  {
   "cell_type": "code",
   "execution_count": 81,
   "metadata": {},
   "outputs": [
    {
     "data": {
      "text/plain": [
       "Reddit     105216\n",
       "AdWords     63065\n",
       "SEO         41742\n",
       "Name: source, dtype: int64"
      ]
     },
     "execution_count": 81,
     "metadata": {},
     "output_type": "execute_result"
    }
   ],
   "source": [
    "read_first.source.value_counts() # first visitors by source"
   ]
  },
  {
   "cell_type": "code",
   "execution_count": 29,
   "metadata": {},
   "outputs": [
    {
     "data": {
      "text/plain": [
       "Asia             76092\n",
       "Europe           39561\n",
       "North America    37567\n",
       "South America    25095\n",
       "Africa           15913\n",
       "Australia        15795\n",
       "Name: topic, dtype: int64"
      ]
     },
     "execution_count": 29,
     "metadata": {},
     "output_type": "execute_result"
    }
   ],
   "source": [
    "read_first.topic.value_counts()"
   ]
  },
  {
   "cell_type": "code",
   "execution_count": 30,
   "metadata": {},
   "outputs": [
    {
     "name": "stdout",
     "output_type": "stream",
     "text": [
      "<class 'pandas.core.frame.DataFrame'>\n",
      "Int64Index: 210023 entries, 0 to 597769\n",
      "Data columns (total 6 columns):\n",
      "my_date    210023 non-null object\n",
      "event      210023 non-null object\n",
      "country    210023 non-null object\n",
      "user_id    210023 non-null float64\n",
      "source     210023 non-null object\n",
      "topic      210023 non-null object\n",
      "dtypes: float64(1), object(5)\n",
      "memory usage: 11.2+ MB\n"
     ]
    }
   ],
   "source": [
    "read_first.info()"
   ]
  },
  {
   "cell_type": "code",
   "execution_count": 31,
   "metadata": {},
   "outputs": [
    {
     "data": {
      "text/plain": [
       "country\n",
       "country_1     5076\n",
       "country_2    50675\n",
       "country_3     2742\n",
       "country_4    12751\n",
       "country_5    40349\n",
       "country_6    31156\n",
       "country_7    51791\n",
       "country_8    15483\n",
       "Name: user_id, dtype: int64"
      ]
     },
     "execution_count": 31,
     "metadata": {},
     "output_type": "execute_result"
    }
   ],
   "source": [
    "r1 = read_first.groupby('country').count()['user_id']\n",
    "r1"
   ]
  },
  {
   "cell_type": "code",
   "execution_count": 32,
   "metadata": {},
   "outputs": [
    {
     "data": {
      "text/html": [
       "<div>\n",
       "<style scoped>\n",
       "    .dataframe tbody tr th:only-of-type {\n",
       "        vertical-align: middle;\n",
       "    }\n",
       "\n",
       "    .dataframe tbody tr th {\n",
       "        vertical-align: top;\n",
       "    }\n",
       "\n",
       "    .dataframe thead th {\n",
       "        text-align: right;\n",
       "    }\n",
       "</style>\n",
       "<table border=\"1\" class=\"dataframe\">\n",
       "  <thead>\n",
       "    <tr style=\"text-align: right;\">\n",
       "      <th></th>\n",
       "      <th>country</th>\n",
       "      <th>first_visits</th>\n",
       "    </tr>\n",
       "  </thead>\n",
       "  <tbody>\n",
       "    <tr>\n",
       "      <td>0</td>\n",
       "      <td>country_1</td>\n",
       "      <td>5076</td>\n",
       "    </tr>\n",
       "    <tr>\n",
       "      <td>1</td>\n",
       "      <td>country_2</td>\n",
       "      <td>50675</td>\n",
       "    </tr>\n",
       "    <tr>\n",
       "      <td>2</td>\n",
       "      <td>country_3</td>\n",
       "      <td>2742</td>\n",
       "    </tr>\n",
       "    <tr>\n",
       "      <td>3</td>\n",
       "      <td>country_4</td>\n",
       "      <td>12751</td>\n",
       "    </tr>\n",
       "    <tr>\n",
       "      <td>4</td>\n",
       "      <td>country_5</td>\n",
       "      <td>40349</td>\n",
       "    </tr>\n",
       "  </tbody>\n",
       "</table>\n",
       "</div>"
      ],
      "text/plain": [
       "     country  first_visits\n",
       "0  country_1          5076\n",
       "1  country_2         50675\n",
       "2  country_3          2742\n",
       "3  country_4         12751\n",
       "4  country_5         40349"
      ]
     },
     "execution_count": 32,
     "metadata": {},
     "output_type": "execute_result"
    }
   ],
   "source": [
    "r1 = r1.to_frame()\n",
    "r1.reset_index(inplace=True)\n",
    "r1.rename({'user_id' : 'first_visits'}, axis=1, inplace=True)\n",
    "r1.head()"
   ]
  },
  {
   "cell_type": "markdown",
   "metadata": {},
   "source": [
    "##### Checking the number of returning readers and their country"
   ]
  },
  {
   "cell_type": "code",
   "execution_count": 33,
   "metadata": {},
   "outputs": [
    {
     "data": {
      "text/plain": [
       "2.458174e+09    57\n",
       "2.458198e+09    51\n",
       "2.458203e+09    51\n",
       "2.458284e+09    51\n",
       "2.458281e+09    51\n",
       "                ..\n",
       "2.458330e+09     1\n",
       "2.458207e+09     1\n",
       "2.458361e+09     1\n",
       "2.458214e+09     1\n",
       "2.458243e+09     1\n",
       "Name: user_id, Length: 66231, dtype: int64"
      ]
     },
     "execution_count": 33,
     "metadata": {},
     "output_type": "execute_result"
    }
   ],
   "source": [
    "list_ret = returning_readers.user_id.value_counts()\n",
    "list_ret"
   ]
  },
  {
   "cell_type": "code",
   "execution_count": 34,
   "metadata": {},
   "outputs": [
    {
     "data": {
      "text/html": [
       "<div>\n",
       "<style scoped>\n",
       "    .dataframe tbody tr th:only-of-type {\n",
       "        vertical-align: middle;\n",
       "    }\n",
       "\n",
       "    .dataframe tbody tr th {\n",
       "        vertical-align: top;\n",
       "    }\n",
       "\n",
       "    .dataframe thead th {\n",
       "        text-align: right;\n",
       "    }\n",
       "</style>\n",
       "<table border=\"1\" class=\"dataframe\">\n",
       "  <thead>\n",
       "    <tr style=\"text-align: right;\">\n",
       "      <th></th>\n",
       "      <th>index</th>\n",
       "      <th>user_id</th>\n",
       "    </tr>\n",
       "  </thead>\n",
       "  <tbody>\n",
       "    <tr>\n",
       "      <td>0</td>\n",
       "      <td>2.458174e+09</td>\n",
       "      <td>57</td>\n",
       "    </tr>\n",
       "    <tr>\n",
       "      <td>1</td>\n",
       "      <td>2.458198e+09</td>\n",
       "      <td>51</td>\n",
       "    </tr>\n",
       "    <tr>\n",
       "      <td>2</td>\n",
       "      <td>2.458203e+09</td>\n",
       "      <td>51</td>\n",
       "    </tr>\n",
       "    <tr>\n",
       "      <td>3</td>\n",
       "      <td>2.458284e+09</td>\n",
       "      <td>51</td>\n",
       "    </tr>\n",
       "    <tr>\n",
       "      <td>4</td>\n",
       "      <td>2.458281e+09</td>\n",
       "      <td>51</td>\n",
       "    </tr>\n",
       "  </tbody>\n",
       "</table>\n",
       "</div>"
      ],
      "text/plain": [
       "          index  user_id\n",
       "0  2.458174e+09       57\n",
       "1  2.458198e+09       51\n",
       "2  2.458203e+09       51\n",
       "3  2.458284e+09       51\n",
       "4  2.458281e+09       51"
      ]
     },
     "execution_count": 34,
     "metadata": {},
     "output_type": "execute_result"
    }
   ],
   "source": [
    "list_ret = list_ret.to_frame()\n",
    "list_ret.reset_index(inplace=True)\n",
    "list_ret.head()"
   ]
  },
  {
   "cell_type": "code",
   "execution_count": 35,
   "metadata": {},
   "outputs": [],
   "source": [
    "list_ret.rename({'index':'user_id', 'user_id':'nr_visits'}, axis=1, inplace=True)"
   ]
  },
  {
   "cell_type": "code",
   "execution_count": 36,
   "metadata": {},
   "outputs": [
    {
     "name": "stdout",
     "output_type": "stream",
     "text": [
      "<class 'pandas.core.frame.DataFrame'>\n",
      "RangeIndex: 66231 entries, 0 to 66230\n",
      "Data columns (total 2 columns):\n",
      "user_id      66231 non-null float64\n",
      "nr_visits    66231 non-null int64\n",
      "dtypes: float64(1), int64(1)\n",
      "memory usage: 1.0 MB\n"
     ]
    }
   ],
   "source": [
    "list_ret.info()"
   ]
  },
  {
   "cell_type": "code",
   "execution_count": 37,
   "metadata": {},
   "outputs": [
    {
     "data": {
      "text/html": [
       "<div>\n",
       "<style scoped>\n",
       "    .dataframe tbody tr th:only-of-type {\n",
       "        vertical-align: middle;\n",
       "    }\n",
       "\n",
       "    .dataframe tbody tr th {\n",
       "        vertical-align: top;\n",
       "    }\n",
       "\n",
       "    .dataframe thead th {\n",
       "        text-align: right;\n",
       "    }\n",
       "</style>\n",
       "<table border=\"1\" class=\"dataframe\">\n",
       "  <thead>\n",
       "    <tr style=\"text-align: right;\">\n",
       "      <th></th>\n",
       "      <th>my_date</th>\n",
       "      <th>event</th>\n",
       "      <th>country</th>\n",
       "      <th>user_id</th>\n",
       "      <th>source</th>\n",
       "      <th>topic</th>\n",
       "      <th>nr_visits</th>\n",
       "    </tr>\n",
       "  </thead>\n",
       "  <tbody>\n",
       "    <tr>\n",
       "      <td>0</td>\n",
       "      <td>2018-01-01 00:06:06</td>\n",
       "      <td>read</td>\n",
       "      <td>country_2</td>\n",
       "      <td>2.458151e+09</td>\n",
       "      <td>Reddit</td>\n",
       "      <td>Europe</td>\n",
       "      <td>1</td>\n",
       "    </tr>\n",
       "    <tr>\n",
       "      <td>1</td>\n",
       "      <td>2018-01-01 00:07:57</td>\n",
       "      <td>read</td>\n",
       "      <td>country_5</td>\n",
       "      <td>2.458151e+09</td>\n",
       "      <td>AdWords</td>\n",
       "      <td>Asia</td>\n",
       "      <td>4</td>\n",
       "    </tr>\n",
       "    <tr>\n",
       "      <td>2</td>\n",
       "      <td>2018-01-01 00:09:11</td>\n",
       "      <td>read</td>\n",
       "      <td>country_5</td>\n",
       "      <td>2.458151e+09</td>\n",
       "      <td>Reddit</td>\n",
       "      <td>Asia</td>\n",
       "      <td>5</td>\n",
       "    </tr>\n",
       "    <tr>\n",
       "      <td>3</td>\n",
       "      <td>2018-01-01 00:11:22</td>\n",
       "      <td>read</td>\n",
       "      <td>country_7</td>\n",
       "      <td>2.458151e+09</td>\n",
       "      <td>SEO</td>\n",
       "      <td>North America</td>\n",
       "      <td>6</td>\n",
       "    </tr>\n",
       "    <tr>\n",
       "      <td>4</td>\n",
       "      <td>2018-01-01 00:13:06</td>\n",
       "      <td>read</td>\n",
       "      <td>country_2</td>\n",
       "      <td>2.458151e+09</td>\n",
       "      <td>Reddit</td>\n",
       "      <td>Asia</td>\n",
       "      <td>1</td>\n",
       "    </tr>\n",
       "  </tbody>\n",
       "</table>\n",
       "</div>"
      ],
      "text/plain": [
       "               my_date event    country       user_id   source          topic  \\\n",
       "0  2018-01-01 00:06:06  read  country_2  2.458151e+09   Reddit         Europe   \n",
       "1  2018-01-01 00:07:57  read  country_5  2.458151e+09  AdWords           Asia   \n",
       "2  2018-01-01 00:09:11  read  country_5  2.458151e+09   Reddit           Asia   \n",
       "3  2018-01-01 00:11:22  read  country_7  2.458151e+09      SEO  North America   \n",
       "4  2018-01-01 00:13:06  read  country_2  2.458151e+09   Reddit           Asia   \n",
       "\n",
       "   nr_visits  \n",
       "0          1  \n",
       "1          4  \n",
       "2          5  \n",
       "3          6  \n",
       "4          1  "
      ]
     },
     "execution_count": 37,
     "metadata": {},
     "output_type": "execute_result"
    }
   ],
   "source": [
    "rrdt = read_first.merge(list_ret, on='user_id', how='right')\n",
    "rrdt.head()"
   ]
  },
  {
   "cell_type": "code",
   "execution_count": 38,
   "metadata": {},
   "outputs": [
    {
     "data": {
      "text/plain": [
       "Reddit     31167\n",
       "SEO        24604\n",
       "AdWords    10460\n",
       "Name: source, dtype: int64"
      ]
     },
     "execution_count": 38,
     "metadata": {},
     "output_type": "execute_result"
    }
   ],
   "source": [
    "rrdt.source.value_counts()  # source and nr. of returning unique visitors"
   ]
  },
  {
   "cell_type": "code",
   "execution_count": 47,
   "metadata": {},
   "outputs": [
    {
     "data": {
      "text/plain": [
       "371854"
      ]
     },
     "execution_count": 47,
     "metadata": {},
     "output_type": "execute_result"
    }
   ],
   "source": [
    "rrdt.nr_visits.sum()"
   ]
  },
  {
   "cell_type": "code",
   "execution_count": 40,
   "metadata": {},
   "outputs": [
    {
     "data": {
      "text/plain": [
       "country\n",
       "country_1      191\n",
       "country_2    14269\n",
       "country_3     1082\n",
       "country_4    10167\n",
       "country_5    19477\n",
       "country_6     5930\n",
       "country_7    14417\n",
       "country_8      698\n",
       "Name: user_id, dtype: int64"
      ]
     },
     "execution_count": 40,
     "metadata": {},
     "output_type": "execute_result"
    }
   ],
   "source": [
    "r2 = rrdt.groupby('country').count()['user_id']\n",
    "r2"
   ]
  },
  {
   "cell_type": "code",
   "execution_count": 41,
   "metadata": {},
   "outputs": [
    {
     "data": {
      "text/html": [
       "<div>\n",
       "<style scoped>\n",
       "    .dataframe tbody tr th:only-of-type {\n",
       "        vertical-align: middle;\n",
       "    }\n",
       "\n",
       "    .dataframe tbody tr th {\n",
       "        vertical-align: top;\n",
       "    }\n",
       "\n",
       "    .dataframe thead th {\n",
       "        text-align: right;\n",
       "    }\n",
       "</style>\n",
       "<table border=\"1\" class=\"dataframe\">\n",
       "  <thead>\n",
       "    <tr style=\"text-align: right;\">\n",
       "      <th></th>\n",
       "      <th>country</th>\n",
       "      <th>user_id</th>\n",
       "    </tr>\n",
       "  </thead>\n",
       "  <tbody>\n",
       "    <tr>\n",
       "      <td>0</td>\n",
       "      <td>country_1</td>\n",
       "      <td>191</td>\n",
       "    </tr>\n",
       "    <tr>\n",
       "      <td>1</td>\n",
       "      <td>country_2</td>\n",
       "      <td>14269</td>\n",
       "    </tr>\n",
       "    <tr>\n",
       "      <td>2</td>\n",
       "      <td>country_3</td>\n",
       "      <td>1082</td>\n",
       "    </tr>\n",
       "    <tr>\n",
       "      <td>3</td>\n",
       "      <td>country_4</td>\n",
       "      <td>10167</td>\n",
       "    </tr>\n",
       "    <tr>\n",
       "      <td>4</td>\n",
       "      <td>country_5</td>\n",
       "      <td>19477</td>\n",
       "    </tr>\n",
       "    <tr>\n",
       "      <td>5</td>\n",
       "      <td>country_6</td>\n",
       "      <td>5930</td>\n",
       "    </tr>\n",
       "    <tr>\n",
       "      <td>6</td>\n",
       "      <td>country_7</td>\n",
       "      <td>14417</td>\n",
       "    </tr>\n",
       "    <tr>\n",
       "      <td>7</td>\n",
       "      <td>country_8</td>\n",
       "      <td>698</td>\n",
       "    </tr>\n",
       "  </tbody>\n",
       "</table>\n",
       "</div>"
      ],
      "text/plain": [
       "     country  user_id\n",
       "0  country_1      191\n",
       "1  country_2    14269\n",
       "2  country_3     1082\n",
       "3  country_4    10167\n",
       "4  country_5    19477\n",
       "5  country_6     5930\n",
       "6  country_7    14417\n",
       "7  country_8      698"
      ]
     },
     "execution_count": 41,
     "metadata": {},
     "output_type": "execute_result"
    }
   ],
   "source": [
    "r2 = r2.to_frame()\n",
    "r2.reset_index(inplace=True)\n",
    "r2"
   ]
  },
  {
   "cell_type": "code",
   "execution_count": 43,
   "metadata": {},
   "outputs": [
    {
     "data": {
      "text/html": [
       "<div>\n",
       "<style scoped>\n",
       "    .dataframe tbody tr th:only-of-type {\n",
       "        vertical-align: middle;\n",
       "    }\n",
       "\n",
       "    .dataframe tbody tr th {\n",
       "        vertical-align: top;\n",
       "    }\n",
       "\n",
       "    .dataframe thead th {\n",
       "        text-align: right;\n",
       "    }\n",
       "</style>\n",
       "<table border=\"1\" class=\"dataframe\">\n",
       "  <thead>\n",
       "    <tr style=\"text-align: right;\">\n",
       "      <th></th>\n",
       "      <th>country</th>\n",
       "      <th>returning_visitors</th>\n",
       "    </tr>\n",
       "  </thead>\n",
       "  <tbody>\n",
       "    <tr>\n",
       "      <td>0</td>\n",
       "      <td>country_1</td>\n",
       "      <td>191</td>\n",
       "    </tr>\n",
       "    <tr>\n",
       "      <td>1</td>\n",
       "      <td>country_2</td>\n",
       "      <td>14269</td>\n",
       "    </tr>\n",
       "    <tr>\n",
       "      <td>2</td>\n",
       "      <td>country_3</td>\n",
       "      <td>1082</td>\n",
       "    </tr>\n",
       "    <tr>\n",
       "      <td>3</td>\n",
       "      <td>country_4</td>\n",
       "      <td>10167</td>\n",
       "    </tr>\n",
       "    <tr>\n",
       "      <td>4</td>\n",
       "      <td>country_5</td>\n",
       "      <td>19477</td>\n",
       "    </tr>\n",
       "    <tr>\n",
       "      <td>5</td>\n",
       "      <td>country_6</td>\n",
       "      <td>5930</td>\n",
       "    </tr>\n",
       "    <tr>\n",
       "      <td>6</td>\n",
       "      <td>country_7</td>\n",
       "      <td>14417</td>\n",
       "    </tr>\n",
       "    <tr>\n",
       "      <td>7</td>\n",
       "      <td>country_8</td>\n",
       "      <td>698</td>\n",
       "    </tr>\n",
       "  </tbody>\n",
       "</table>\n",
       "</div>"
      ],
      "text/plain": [
       "     country  returning_visitors\n",
       "0  country_1                 191\n",
       "1  country_2               14269\n",
       "2  country_3                1082\n",
       "3  country_4               10167\n",
       "4  country_5               19477\n",
       "5  country_6                5930\n",
       "6  country_7               14417\n",
       "7  country_8                 698"
      ]
     },
     "execution_count": 43,
     "metadata": {},
     "output_type": "execute_result"
    }
   ],
   "source": [
    "r2.rename({'user_id' : 'returning_visitors'}, axis=1, inplace=True) # number of unique returning visitors by country\n",
    "r2"
   ]
  },
  {
   "cell_type": "markdown",
   "metadata": {},
   "source": [
    "##### Checking the number of visits for returning users by country"
   ]
  },
  {
   "cell_type": "code",
   "execution_count": 56,
   "metadata": {},
   "outputs": [
    {
     "data": {
      "text/plain": [
       "country_5    109383\n",
       "country_7     80276\n",
       "country_2     79401\n",
       "country_4     58507\n",
       "country_6     32596\n",
       "country_3      6386\n",
       "country_8      4150\n",
       "country_1      1155\n",
       "Name: country, dtype: int64"
      ]
     },
     "execution_count": 56,
     "metadata": {},
     "output_type": "execute_result"
    }
   ],
   "source": [
    "visits = returning_readers.country.value_counts() # number of returning visits by country\n",
    "visits"
   ]
  },
  {
   "cell_type": "code",
   "execution_count": 57,
   "metadata": {},
   "outputs": [
    {
     "data": {
      "text/html": [
       "<div>\n",
       "<style scoped>\n",
       "    .dataframe tbody tr th:only-of-type {\n",
       "        vertical-align: middle;\n",
       "    }\n",
       "\n",
       "    .dataframe tbody tr th {\n",
       "        vertical-align: top;\n",
       "    }\n",
       "\n",
       "    .dataframe thead th {\n",
       "        text-align: right;\n",
       "    }\n",
       "</style>\n",
       "<table border=\"1\" class=\"dataframe\">\n",
       "  <thead>\n",
       "    <tr style=\"text-align: right;\">\n",
       "      <th></th>\n",
       "      <th>index</th>\n",
       "      <th>country</th>\n",
       "    </tr>\n",
       "  </thead>\n",
       "  <tbody>\n",
       "    <tr>\n",
       "      <td>0</td>\n",
       "      <td>country_5</td>\n",
       "      <td>109383</td>\n",
       "    </tr>\n",
       "    <tr>\n",
       "      <td>1</td>\n",
       "      <td>country_7</td>\n",
       "      <td>80276</td>\n",
       "    </tr>\n",
       "    <tr>\n",
       "      <td>2</td>\n",
       "      <td>country_2</td>\n",
       "      <td>79401</td>\n",
       "    </tr>\n",
       "    <tr>\n",
       "      <td>3</td>\n",
       "      <td>country_4</td>\n",
       "      <td>58507</td>\n",
       "    </tr>\n",
       "    <tr>\n",
       "      <td>4</td>\n",
       "      <td>country_6</td>\n",
       "      <td>32596</td>\n",
       "    </tr>\n",
       "    <tr>\n",
       "      <td>5</td>\n",
       "      <td>country_3</td>\n",
       "      <td>6386</td>\n",
       "    </tr>\n",
       "    <tr>\n",
       "      <td>6</td>\n",
       "      <td>country_8</td>\n",
       "      <td>4150</td>\n",
       "    </tr>\n",
       "    <tr>\n",
       "      <td>7</td>\n",
       "      <td>country_1</td>\n",
       "      <td>1155</td>\n",
       "    </tr>\n",
       "  </tbody>\n",
       "</table>\n",
       "</div>"
      ],
      "text/plain": [
       "       index  country\n",
       "0  country_5   109383\n",
       "1  country_7    80276\n",
       "2  country_2    79401\n",
       "3  country_4    58507\n",
       "4  country_6    32596\n",
       "5  country_3     6386\n",
       "6  country_8     4150\n",
       "7  country_1     1155"
      ]
     },
     "execution_count": 57,
     "metadata": {},
     "output_type": "execute_result"
    }
   ],
   "source": [
    "visits = visits.to_frame()\n",
    "visits.reset_index(inplace=True)\n",
    "visits"
   ]
  },
  {
   "cell_type": "code",
   "execution_count": 58,
   "metadata": {},
   "outputs": [
    {
     "data": {
      "text/html": [
       "<div>\n",
       "<style scoped>\n",
       "    .dataframe tbody tr th:only-of-type {\n",
       "        vertical-align: middle;\n",
       "    }\n",
       "\n",
       "    .dataframe tbody tr th {\n",
       "        vertical-align: top;\n",
       "    }\n",
       "\n",
       "    .dataframe thead th {\n",
       "        text-align: right;\n",
       "    }\n",
       "</style>\n",
       "<table border=\"1\" class=\"dataframe\">\n",
       "  <thead>\n",
       "    <tr style=\"text-align: right;\">\n",
       "      <th></th>\n",
       "      <th>country</th>\n",
       "      <th>nr_visits</th>\n",
       "    </tr>\n",
       "  </thead>\n",
       "  <tbody>\n",
       "    <tr>\n",
       "      <td>0</td>\n",
       "      <td>country_5</td>\n",
       "      <td>109383</td>\n",
       "    </tr>\n",
       "    <tr>\n",
       "      <td>1</td>\n",
       "      <td>country_7</td>\n",
       "      <td>80276</td>\n",
       "    </tr>\n",
       "    <tr>\n",
       "      <td>2</td>\n",
       "      <td>country_2</td>\n",
       "      <td>79401</td>\n",
       "    </tr>\n",
       "    <tr>\n",
       "      <td>3</td>\n",
       "      <td>country_4</td>\n",
       "      <td>58507</td>\n",
       "    </tr>\n",
       "    <tr>\n",
       "      <td>4</td>\n",
       "      <td>country_6</td>\n",
       "      <td>32596</td>\n",
       "    </tr>\n",
       "    <tr>\n",
       "      <td>5</td>\n",
       "      <td>country_3</td>\n",
       "      <td>6386</td>\n",
       "    </tr>\n",
       "    <tr>\n",
       "      <td>6</td>\n",
       "      <td>country_8</td>\n",
       "      <td>4150</td>\n",
       "    </tr>\n",
       "    <tr>\n",
       "      <td>7</td>\n",
       "      <td>country_1</td>\n",
       "      <td>1155</td>\n",
       "    </tr>\n",
       "  </tbody>\n",
       "</table>\n",
       "</div>"
      ],
      "text/plain": [
       "     country  nr_visits\n",
       "0  country_5     109383\n",
       "1  country_7      80276\n",
       "2  country_2      79401\n",
       "3  country_4      58507\n",
       "4  country_6      32596\n",
       "5  country_3       6386\n",
       "6  country_8       4150\n",
       "7  country_1       1155"
      ]
     },
     "execution_count": 58,
     "metadata": {},
     "output_type": "execute_result"
    }
   ],
   "source": [
    "visits.rename({'index' : 'country', 'country':'nr_visits'}, axis=1, inplace=True)\n",
    "visits"
   ]
  },
  {
   "cell_type": "code",
   "execution_count": 59,
   "metadata": {},
   "outputs": [
    {
     "data": {
      "text/html": [
       "<div>\n",
       "<style scoped>\n",
       "    .dataframe tbody tr th:only-of-type {\n",
       "        vertical-align: middle;\n",
       "    }\n",
       "\n",
       "    .dataframe tbody tr th {\n",
       "        vertical-align: top;\n",
       "    }\n",
       "\n",
       "    .dataframe thead th {\n",
       "        text-align: right;\n",
       "    }\n",
       "</style>\n",
       "<table border=\"1\" class=\"dataframe\">\n",
       "  <thead>\n",
       "    <tr style=\"text-align: right;\">\n",
       "      <th></th>\n",
       "      <th>country</th>\n",
       "      <th>first_visits</th>\n",
       "      <th>returning_visitors</th>\n",
       "    </tr>\n",
       "  </thead>\n",
       "  <tbody>\n",
       "    <tr>\n",
       "      <td>0</td>\n",
       "      <td>country_1</td>\n",
       "      <td>5076</td>\n",
       "      <td>191</td>\n",
       "    </tr>\n",
       "    <tr>\n",
       "      <td>1</td>\n",
       "      <td>country_2</td>\n",
       "      <td>50675</td>\n",
       "      <td>14269</td>\n",
       "    </tr>\n",
       "    <tr>\n",
       "      <td>2</td>\n",
       "      <td>country_3</td>\n",
       "      <td>2742</td>\n",
       "      <td>1082</td>\n",
       "    </tr>\n",
       "    <tr>\n",
       "      <td>3</td>\n",
       "      <td>country_4</td>\n",
       "      <td>12751</td>\n",
       "      <td>10167</td>\n",
       "    </tr>\n",
       "    <tr>\n",
       "      <td>4</td>\n",
       "      <td>country_5</td>\n",
       "      <td>40349</td>\n",
       "      <td>19477</td>\n",
       "    </tr>\n",
       "    <tr>\n",
       "      <td>5</td>\n",
       "      <td>country_6</td>\n",
       "      <td>31156</td>\n",
       "      <td>5930</td>\n",
       "    </tr>\n",
       "    <tr>\n",
       "      <td>6</td>\n",
       "      <td>country_7</td>\n",
       "      <td>51791</td>\n",
       "      <td>14417</td>\n",
       "    </tr>\n",
       "    <tr>\n",
       "      <td>7</td>\n",
       "      <td>country_8</td>\n",
       "      <td>15483</td>\n",
       "      <td>698</td>\n",
       "    </tr>\n",
       "  </tbody>\n",
       "</table>\n",
       "</div>"
      ],
      "text/plain": [
       "     country  first_visits  returning_visitors\n",
       "0  country_1          5076                 191\n",
       "1  country_2         50675               14269\n",
       "2  country_3          2742                1082\n",
       "3  country_4         12751               10167\n",
       "4  country_5         40349               19477\n",
       "5  country_6         31156                5930\n",
       "6  country_7         51791               14417\n",
       "7  country_8         15483                 698"
      ]
     },
     "execution_count": 59,
     "metadata": {},
     "output_type": "execute_result"
    }
   ],
   "source": [
    "r3 = r1.merge(r2, on='country', how='outer')\n",
    "r3"
   ]
  },
  {
   "cell_type": "code",
   "execution_count": 60,
   "metadata": {},
   "outputs": [
    {
     "data": {
      "text/html": [
       "<div>\n",
       "<style scoped>\n",
       "    .dataframe tbody tr th:only-of-type {\n",
       "        vertical-align: middle;\n",
       "    }\n",
       "\n",
       "    .dataframe tbody tr th {\n",
       "        vertical-align: top;\n",
       "    }\n",
       "\n",
       "    .dataframe thead th {\n",
       "        text-align: right;\n",
       "    }\n",
       "</style>\n",
       "<table border=\"1\" class=\"dataframe\">\n",
       "  <thead>\n",
       "    <tr style=\"text-align: right;\">\n",
       "      <th></th>\n",
       "      <th>country</th>\n",
       "      <th>first_visits</th>\n",
       "      <th>returning_visitors</th>\n",
       "      <th>nr_visits</th>\n",
       "    </tr>\n",
       "  </thead>\n",
       "  <tbody>\n",
       "    <tr>\n",
       "      <td>0</td>\n",
       "      <td>country_1</td>\n",
       "      <td>5076</td>\n",
       "      <td>191</td>\n",
       "      <td>1155</td>\n",
       "    </tr>\n",
       "    <tr>\n",
       "      <td>1</td>\n",
       "      <td>country_2</td>\n",
       "      <td>50675</td>\n",
       "      <td>14269</td>\n",
       "      <td>79401</td>\n",
       "    </tr>\n",
       "    <tr>\n",
       "      <td>2</td>\n",
       "      <td>country_3</td>\n",
       "      <td>2742</td>\n",
       "      <td>1082</td>\n",
       "      <td>6386</td>\n",
       "    </tr>\n",
       "    <tr>\n",
       "      <td>3</td>\n",
       "      <td>country_4</td>\n",
       "      <td>12751</td>\n",
       "      <td>10167</td>\n",
       "      <td>58507</td>\n",
       "    </tr>\n",
       "    <tr>\n",
       "      <td>4</td>\n",
       "      <td>country_5</td>\n",
       "      <td>40349</td>\n",
       "      <td>19477</td>\n",
       "      <td>109383</td>\n",
       "    </tr>\n",
       "    <tr>\n",
       "      <td>5</td>\n",
       "      <td>country_6</td>\n",
       "      <td>31156</td>\n",
       "      <td>5930</td>\n",
       "      <td>32596</td>\n",
       "    </tr>\n",
       "    <tr>\n",
       "      <td>6</td>\n",
       "      <td>country_7</td>\n",
       "      <td>51791</td>\n",
       "      <td>14417</td>\n",
       "      <td>80276</td>\n",
       "    </tr>\n",
       "    <tr>\n",
       "      <td>7</td>\n",
       "      <td>country_8</td>\n",
       "      <td>15483</td>\n",
       "      <td>698</td>\n",
       "      <td>4150</td>\n",
       "    </tr>\n",
       "  </tbody>\n",
       "</table>\n",
       "</div>"
      ],
      "text/plain": [
       "     country  first_visits  returning_visitors  nr_visits\n",
       "0  country_1          5076                 191       1155\n",
       "1  country_2         50675               14269      79401\n",
       "2  country_3          2742                1082       6386\n",
       "3  country_4         12751               10167      58507\n",
       "4  country_5         40349               19477     109383\n",
       "5  country_6         31156                5930      32596\n",
       "6  country_7         51791               14417      80276\n",
       "7  country_8         15483                 698       4150"
      ]
     },
     "execution_count": 60,
     "metadata": {},
     "output_type": "execute_result"
    }
   ],
   "source": [
    "r4 = r3.merge(visits, on='country', how='outer')\n",
    "r4"
   ]
  },
  {
   "cell_type": "code",
   "execution_count": 79,
   "metadata": {},
   "outputs": [
    {
     "data": {
      "image/png": "[encoded data removed]",
      "text/plain": [
       "<Figure size 1080x360 with 1 Axes>"
      ]
     },
     "metadata": {
      "needs_background": "light"
     },
     "output_type": "display_data"
    }
   ],
   "source": [
    "r4.plot(x='country', kind='bar', figsize=(15,5))\n",
    "plt.xticks(rotation=60)\n",
    "plt.ylabel('Number of users')\n",
    "plt.savefig('Reading activity.png')"
   ]
  },
  {
   "cell_type": "markdown",
   "metadata": {},
   "source": [
    "##### Analyzing readers by topic and source"
   ]
  },
  {
   "cell_type": "markdown",
   "metadata": {},
   "source": [
    "### TOPIC"
   ]
  },
  {
   "cell_type": "code",
   "execution_count": 72,
   "metadata": {},
   "outputs": [
    {
     "data": {
      "text/plain": [
       "country    topic        \n",
       "country_1  Africa              57\n",
       "           Asia               252\n",
       "           Australia           89\n",
       "           Europe             154\n",
       "           North America      416\n",
       "           South America      187\n",
       "country_2  Africa            5765\n",
       "           Asia             25406\n",
       "           Australia         5964\n",
       "           Europe           11073\n",
       "           North America    20038\n",
       "           South America    11155\n",
       "country_3  Africa             514\n",
       "           Asia              2044\n",
       "           Australia          453\n",
       "           Europe             877\n",
       "           North America     1582\n",
       "           South America      916\n",
       "country_4  Africa            4239\n",
       "           Asia             19307\n",
       "           Australia         4295\n",
       "           Europe            9500\n",
       "           North America    13393\n",
       "           South America     7773\n",
       "country_5  Africa            8173\n",
       "           Asia             35316\n",
       "           Australia         7862\n",
       "           Europe           16454\n",
       "           North America    26660\n",
       "           South America    14918\n",
       "country_6  Africa            2468\n",
       "           Asia             10196\n",
       "           Australia         2280\n",
       "           Europe            4406\n",
       "           North America     8595\n",
       "           South America     4651\n",
       "country_7  Africa            6033\n",
       "           Asia             25399\n",
       "           Australia         5736\n",
       "           Europe           11157\n",
       "           North America    20572\n",
       "           South America    11379\n",
       "country_8  Africa             232\n",
       "           Asia               913\n",
       "           Australia          252\n",
       "           Europe             515\n",
       "           North America     1511\n",
       "           South America      727\n",
       "Name: user_id, dtype: int64"
      ]
     },
     "execution_count": 72,
     "metadata": {},
     "output_type": "execute_result"
    }
   ],
   "source": [
    "topic_tabel = returning_readers.groupby(['country', 'topic']).count()['user_id']\n",
    "topic_tabel"
   ]
  },
  {
   "cell_type": "code",
   "execution_count": 74,
   "metadata": {
    "collapsed": true
   },
   "outputs": [
    {
     "ename": "AttributeError",
     "evalue": "'DataFrame' object has no attribute 'to_frame'",
     "output_type": "error",
     "traceback": [
      "\u001b[1;31m---------------------------------------------------------------------------\u001b[0m",
      "\u001b[1;31mAttributeError\u001b[0m                            Traceback (most recent call last)",
      "\u001b[1;32m<ipython-input-74-a7906b836d3d>\u001b[0m in \u001b[0;36m<module>\u001b[1;34m\u001b[0m\n\u001b[1;32m----> 1\u001b[1;33m \u001b[0mtopic_tabel\u001b[0m\u001b[1;33m=\u001b[0m \u001b[0mtopic_tabel\u001b[0m\u001b[1;33m.\u001b[0m\u001b[0mto_frame\u001b[0m\u001b[1;33m(\u001b[0m\u001b[1;33m)\u001b[0m\u001b[1;33m\u001b[0m\u001b[1;33m\u001b[0m\u001b[0m\n\u001b[0m\u001b[0;32m      2\u001b[0m \u001b[0mtopic_tabel\u001b[0m\u001b[1;33m.\u001b[0m\u001b[0mreset_index\u001b[0m\u001b[1;33m(\u001b[0m\u001b[0minplace\u001b[0m\u001b[1;33m=\u001b[0m\u001b[1;32mTrue\u001b[0m\u001b[1;33m)\u001b[0m\u001b[1;33m\u001b[0m\u001b[1;33m\u001b[0m\u001b[0m\n\u001b[0;32m      3\u001b[0m \u001b[0mtopic_tabel\u001b[0m\u001b[1;33m.\u001b[0m\u001b[0mhead\u001b[0m\u001b[1;33m(\u001b[0m\u001b[1;33m)\u001b[0m\u001b[1;33m\u001b[0m\u001b[1;33m\u001b[0m\u001b[0m\n",
      "\u001b[1;32m~\\Anaconda3\\lib\\site-packages\\pandas\\core\\generic.py\u001b[0m in \u001b[0;36m__getattr__\u001b[1;34m(self, name)\u001b[0m\n\u001b[0;32m   5177\u001b[0m             \u001b[1;32mif\u001b[0m \u001b[0mself\u001b[0m\u001b[1;33m.\u001b[0m\u001b[0m_info_axis\u001b[0m\u001b[1;33m.\u001b[0m\u001b[0m_can_hold_identifiers_and_holds_name\u001b[0m\u001b[1;33m(\u001b[0m\u001b[0mname\u001b[0m\u001b[1;33m)\u001b[0m\u001b[1;33m:\u001b[0m\u001b[1;33m\u001b[0m\u001b[1;33m\u001b[0m\u001b[0m\n\u001b[0;32m   5178\u001b[0m                 \u001b[1;32mreturn\u001b[0m \u001b[0mself\u001b[0m\u001b[1;33m[\u001b[0m\u001b[0mname\u001b[0m\u001b[1;33m]\u001b[0m\u001b[1;33m\u001b[0m\u001b[1;33m\u001b[0m\u001b[0m\n\u001b[1;32m-> 5179\u001b[1;33m             \u001b[1;32mreturn\u001b[0m \u001b[0mobject\u001b[0m\u001b[1;33m.\u001b[0m\u001b[0m__getattribute__\u001b[0m\u001b[1;33m(\u001b[0m\u001b[0mself\u001b[0m\u001b[1;33m,\u001b[0m \u001b[0mname\u001b[0m\u001b[1;33m)\u001b[0m\u001b[1;33m\u001b[0m\u001b[1;33m\u001b[0m\u001b[0m\n\u001b[0m\u001b[0;32m   5180\u001b[0m \u001b[1;33m\u001b[0m\u001b[0m\n\u001b[0;32m   5181\u001b[0m     \u001b[1;32mdef\u001b[0m \u001b[0m__setattr__\u001b[0m\u001b[1;33m(\u001b[0m\u001b[0mself\u001b[0m\u001b[1;33m,\u001b[0m \u001b[0mname\u001b[0m\u001b[1;33m,\u001b[0m \u001b[0mvalue\u001b[0m\u001b[1;33m)\u001b[0m\u001b[1;33m:\u001b[0m\u001b[1;33m\u001b[0m\u001b[1;33m\u001b[0m\u001b[0m\n",
      "\u001b[1;31mAttributeError\u001b[0m: 'DataFrame' object has no attribute 'to_frame'"
     ]
    }
   ],
   "source": [
    "topic_tabel= topic_tabel.to_frame()\n",
    "topic_tabel.reset_index(inplace=True)"
   ]
  },
  {
   "cell_type": "code",
   "execution_count": 75,
   "metadata": {},
   "outputs": [
    {
     "data": {
      "text/html": [
       "<div>\n",
       "<style scoped>\n",
       "    .dataframe tbody tr th:only-of-type {\n",
       "        vertical-align: middle;\n",
       "    }\n",
       "\n",
       "    .dataframe tbody tr th {\n",
       "        vertical-align: top;\n",
       "    }\n",
       "\n",
       "    .dataframe thead th {\n",
       "        text-align: right;\n",
       "    }\n",
       "</style>\n",
       "<table border=\"1\" class=\"dataframe\">\n",
       "  <thead>\n",
       "    <tr style=\"text-align: right;\">\n",
       "      <th></th>\n",
       "      <th>country</th>\n",
       "      <th>topic</th>\n",
       "      <th>user_id</th>\n",
       "    </tr>\n",
       "  </thead>\n",
       "  <tbody>\n",
       "    <tr>\n",
       "      <td>0</td>\n",
       "      <td>country_1</td>\n",
       "      <td>Africa</td>\n",
       "      <td>57</td>\n",
       "    </tr>\n",
       "    <tr>\n",
       "      <td>1</td>\n",
       "      <td>country_1</td>\n",
       "      <td>Asia</td>\n",
       "      <td>252</td>\n",
       "    </tr>\n",
       "    <tr>\n",
       "      <td>2</td>\n",
       "      <td>country_1</td>\n",
       "      <td>Australia</td>\n",
       "      <td>89</td>\n",
       "    </tr>\n",
       "    <tr>\n",
       "      <td>3</td>\n",
       "      <td>country_1</td>\n",
       "      <td>Europe</td>\n",
       "      <td>154</td>\n",
       "    </tr>\n",
       "    <tr>\n",
       "      <td>4</td>\n",
       "      <td>country_1</td>\n",
       "      <td>North America</td>\n",
       "      <td>416</td>\n",
       "    </tr>\n",
       "  </tbody>\n",
       "</table>\n",
       "</div>"
      ],
      "text/plain": [
       "     country          topic  user_id\n",
       "0  country_1         Africa       57\n",
       "1  country_1           Asia      252\n",
       "2  country_1      Australia       89\n",
       "3  country_1         Europe      154\n",
       "4  country_1  North America      416"
      ]
     },
     "execution_count": 75,
     "metadata": {},
     "output_type": "execute_result"
    }
   ],
   "source": [
    "topic_tabel.head()"
   ]
  },
  {
   "cell_type": "code",
   "execution_count": 76,
   "metadata": {},
   "outputs": [
    {
     "data": {
      "text/html": [
       "<div>\n",
       "<style scoped>\n",
       "    .dataframe tbody tr th:only-of-type {\n",
       "        vertical-align: middle;\n",
       "    }\n",
       "\n",
       "    .dataframe tbody tr th {\n",
       "        vertical-align: top;\n",
       "    }\n",
       "\n",
       "    .dataframe thead th {\n",
       "        text-align: right;\n",
       "    }\n",
       "</style>\n",
       "<table border=\"1\" class=\"dataframe\">\n",
       "  <thead>\n",
       "    <tr style=\"text-align: right;\">\n",
       "      <th></th>\n",
       "      <th>country</th>\n",
       "      <th>topic</th>\n",
       "      <th>users</th>\n",
       "    </tr>\n",
       "  </thead>\n",
       "  <tbody>\n",
       "    <tr>\n",
       "      <td>0</td>\n",
       "      <td>country_1</td>\n",
       "      <td>Africa</td>\n",
       "      <td>57</td>\n",
       "    </tr>\n",
       "    <tr>\n",
       "      <td>1</td>\n",
       "      <td>country_1</td>\n",
       "      <td>Asia</td>\n",
       "      <td>252</td>\n",
       "    </tr>\n",
       "    <tr>\n",
       "      <td>2</td>\n",
       "      <td>country_1</td>\n",
       "      <td>Australia</td>\n",
       "      <td>89</td>\n",
       "    </tr>\n",
       "    <tr>\n",
       "      <td>3</td>\n",
       "      <td>country_1</td>\n",
       "      <td>Europe</td>\n",
       "      <td>154</td>\n",
       "    </tr>\n",
       "    <tr>\n",
       "      <td>4</td>\n",
       "      <td>country_1</td>\n",
       "      <td>North America</td>\n",
       "      <td>416</td>\n",
       "    </tr>\n",
       "  </tbody>\n",
       "</table>\n",
       "</div>"
      ],
      "text/plain": [
       "     country          topic  users\n",
       "0  country_1         Africa     57\n",
       "1  country_1           Asia    252\n",
       "2  country_1      Australia     89\n",
       "3  country_1         Europe    154\n",
       "4  country_1  North America    416"
      ]
     },
     "execution_count": 76,
     "metadata": {},
     "output_type": "execute_result"
    }
   ],
   "source": [
    "topic_tabel.rename({'user_id':'users'}, axis=1, inplace=True)\n",
    "topic_tabel.head()"
   ]
  },
  {
   "cell_type": "code",
   "execution_count": 80,
   "metadata": {},
   "outputs": [
    {
     "data": {
      "image/png": "[encoded data removed]",
      "text/plain": [
       "<Figure size 1080x360 with 1 Axes>"
      ]
     },
     "metadata": {
      "needs_background": "light"
     },
     "output_type": "display_data"
    }
   ],
   "source": [
    "plt.figure(figsize=(15,5))\n",
    "sns.barplot(data=topic_tabel, x='country', y='users', hue='topic')\n",
    "plt.savefig('Returning_readers_topic.png')"
   ]
  },
  {
   "cell_type": "markdown",
   "metadata": {},
   "source": [
    "### SOURCE for returning users and frequency of visits"
   ]
  },
  {
   "cell_type": "code",
   "execution_count": 82,
   "metadata": {},
   "outputs": [
    {
     "data": {
      "text/html": [
       "<div>\n",
       "<style scoped>\n",
       "    .dataframe tbody tr th:only-of-type {\n",
       "        vertical-align: middle;\n",
       "    }\n",
       "\n",
       "    .dataframe tbody tr th {\n",
       "        vertical-align: top;\n",
       "    }\n",
       "\n",
       "    .dataframe thead th {\n",
       "        text-align: right;\n",
       "    }\n",
       "</style>\n",
       "<table border=\"1\" class=\"dataframe\">\n",
       "  <thead>\n",
       "    <tr style=\"text-align: right;\">\n",
       "      <th></th>\n",
       "      <th>my_date_x</th>\n",
       "      <th>event_x</th>\n",
       "      <th>country_x</th>\n",
       "      <th>user_id</th>\n",
       "      <th>source</th>\n",
       "      <th>topic_x</th>\n",
       "      <th>my_date_y</th>\n",
       "      <th>event_y</th>\n",
       "      <th>country_y</th>\n",
       "      <th>topic_y</th>\n",
       "    </tr>\n",
       "  </thead>\n",
       "  <tbody>\n",
       "    <tr>\n",
       "      <td>0</td>\n",
       "      <td>2018-01-01 00:06:06</td>\n",
       "      <td>read</td>\n",
       "      <td>country_2</td>\n",
       "      <td>2.458151e+09</td>\n",
       "      <td>Reddit</td>\n",
       "      <td>Europe</td>\n",
       "      <td>2018-03-27 02:29:22</td>\n",
       "      <td>read</td>\n",
       "      <td>country_2</td>\n",
       "      <td>North America</td>\n",
       "    </tr>\n",
       "    <tr>\n",
       "      <td>1</td>\n",
       "      <td>2018-01-01 00:07:57</td>\n",
       "      <td>read</td>\n",
       "      <td>country_5</td>\n",
       "      <td>2.458151e+09</td>\n",
       "      <td>AdWords</td>\n",
       "      <td>Asia</td>\n",
       "      <td>2018-03-04 09:26:30</td>\n",
       "      <td>read</td>\n",
       "      <td>country_5</td>\n",
       "      <td>Asia</td>\n",
       "    </tr>\n",
       "    <tr>\n",
       "      <td>2</td>\n",
       "      <td>2018-01-01 00:07:57</td>\n",
       "      <td>read</td>\n",
       "      <td>country_5</td>\n",
       "      <td>2.458151e+09</td>\n",
       "      <td>AdWords</td>\n",
       "      <td>Asia</td>\n",
       "      <td>2018-03-05 04:33:44</td>\n",
       "      <td>read</td>\n",
       "      <td>country_5</td>\n",
       "      <td>Europe</td>\n",
       "    </tr>\n",
       "    <tr>\n",
       "      <td>3</td>\n",
       "      <td>2018-01-01 00:07:57</td>\n",
       "      <td>read</td>\n",
       "      <td>country_5</td>\n",
       "      <td>2.458151e+09</td>\n",
       "      <td>AdWords</td>\n",
       "      <td>Asia</td>\n",
       "      <td>2018-03-05 06:49:44</td>\n",
       "      <td>read</td>\n",
       "      <td>country_5</td>\n",
       "      <td>North America</td>\n",
       "    </tr>\n",
       "    <tr>\n",
       "      <td>4</td>\n",
       "      <td>2018-01-01 00:07:57</td>\n",
       "      <td>read</td>\n",
       "      <td>country_5</td>\n",
       "      <td>2.458151e+09</td>\n",
       "      <td>AdWords</td>\n",
       "      <td>Asia</td>\n",
       "      <td>2018-03-05 11:50:44</td>\n",
       "      <td>read</td>\n",
       "      <td>country_5</td>\n",
       "      <td>South America</td>\n",
       "    </tr>\n",
       "  </tbody>\n",
       "</table>\n",
       "</div>"
      ],
      "text/plain": [
       "             my_date_x event_x  country_x       user_id   source topic_x  \\\n",
       "0  2018-01-01 00:06:06    read  country_2  2.458151e+09   Reddit  Europe   \n",
       "1  2018-01-01 00:07:57    read  country_5  2.458151e+09  AdWords    Asia   \n",
       "2  2018-01-01 00:07:57    read  country_5  2.458151e+09  AdWords    Asia   \n",
       "3  2018-01-01 00:07:57    read  country_5  2.458151e+09  AdWords    Asia   \n",
       "4  2018-01-01 00:07:57    read  country_5  2.458151e+09  AdWords    Asia   \n",
       "\n",
       "             my_date_y event_y  country_y        topic_y  \n",
       "0  2018-03-27 02:29:22    read  country_2  North America  \n",
       "1  2018-03-04 09:26:30    read  country_5           Asia  \n",
       "2  2018-03-05 04:33:44    read  country_5         Europe  \n",
       "3  2018-03-05 06:49:44    read  country_5  North America  \n",
       "4  2018-03-05 11:50:44    read  country_5  South America  "
      ]
     },
     "execution_count": 82,
     "metadata": {},
     "output_type": "execute_result"
    }
   ],
   "source": [
    "r5 = read_first.merge(returning_readers, on='user_id', how='right')\n",
    "r5.head()"
   ]
  },
  {
   "cell_type": "code",
   "execution_count": 83,
   "metadata": {},
   "outputs": [
    {
     "data": {
      "text/plain": [
       "(371854, 10)"
      ]
     },
     "execution_count": 83,
     "metadata": {},
     "output_type": "execute_result"
    }
   ],
   "source": [
    "r5.shape"
   ]
  },
  {
   "cell_type": "code",
   "execution_count": 85,
   "metadata": {},
   "outputs": [
    {
     "data": {
      "text/plain": [
       "Reddit     173160\n",
       "SEO        140161\n",
       "AdWords     58533\n",
       "Name: source, dtype: int64"
      ]
     },
     "execution_count": 85,
     "metadata": {},
     "output_type": "execute_result"
    }
   ],
   "source": [
    "r5.source.value_counts() # number of visits by source"
   ]
  },
  {
   "cell_type": "markdown",
   "metadata": {},
   "source": [
    "## SUBSCRIBERS"
   ]
  },
  {
   "cell_type": "code",
   "execution_count": 86,
   "metadata": {},
   "outputs": [
    {
     "data": {
      "text/html": [
       "<div>\n",
       "<style scoped>\n",
       "    .dataframe tbody tr th:only-of-type {\n",
       "        vertical-align: middle;\n",
       "    }\n",
       "\n",
       "    .dataframe tbody tr th {\n",
       "        vertical-align: top;\n",
       "    }\n",
       "\n",
       "    .dataframe thead th {\n",
       "        text-align: right;\n",
       "    }\n",
       "</style>\n",
       "<table border=\"1\" class=\"dataframe\">\n",
       "  <thead>\n",
       "    <tr style=\"text-align: right;\">\n",
       "      <th></th>\n",
       "      <th>my_date</th>\n",
       "      <th>event</th>\n",
       "      <th>country</th>\n",
       "      <th>user_id</th>\n",
       "      <th>source</th>\n",
       "      <th>topic</th>\n",
       "    </tr>\n",
       "  </thead>\n",
       "  <tbody>\n",
       "    <tr>\n",
       "      <td>10</td>\n",
       "      <td>2018-01-01 00:07:41</td>\n",
       "      <td>subscribe</td>\n",
       "      <td>2458151268</td>\n",
       "      <td>NaN</td>\n",
       "      <td>NaN</td>\n",
       "      <td>NaN</td>\n",
       "    </tr>\n",
       "    <tr>\n",
       "      <td>11</td>\n",
       "      <td>2018-01-01 00:07:44</td>\n",
       "      <td>subscribe</td>\n",
       "      <td>2458151267</td>\n",
       "      <td>NaN</td>\n",
       "      <td>NaN</td>\n",
       "      <td>NaN</td>\n",
       "    </tr>\n",
       "    <tr>\n",
       "      <td>53</td>\n",
       "      <td>2018-01-01 00:40:55</td>\n",
       "      <td>subscribe</td>\n",
       "      <td>2458151309</td>\n",
       "      <td>NaN</td>\n",
       "      <td>NaN</td>\n",
       "      <td>NaN</td>\n",
       "    </tr>\n",
       "    <tr>\n",
       "      <td>101</td>\n",
       "      <td>2018-01-01 01:26:26</td>\n",
       "      <td>subscribe</td>\n",
       "      <td>2458151358</td>\n",
       "      <td>NaN</td>\n",
       "      <td>NaN</td>\n",
       "      <td>NaN</td>\n",
       "    </tr>\n",
       "    <tr>\n",
       "      <td>105</td>\n",
       "      <td>2018-01-01 01:30:39</td>\n",
       "      <td>subscribe</td>\n",
       "      <td>2458151361</td>\n",
       "      <td>NaN</td>\n",
       "      <td>NaN</td>\n",
       "      <td>NaN</td>\n",
       "    </tr>\n",
       "  </tbody>\n",
       "</table>\n",
       "</div>"
      ],
      "text/plain": [
       "                 my_date      event     country  user_id source topic\n",
       "10   2018-01-01 00:07:41  subscribe  2458151268      NaN    NaN   NaN\n",
       "11   2018-01-01 00:07:44  subscribe  2458151267      NaN    NaN   NaN\n",
       "53   2018-01-01 00:40:55  subscribe  2458151309      NaN    NaN   NaN\n",
       "101  2018-01-01 01:26:26  subscribe  2458151358      NaN    NaN   NaN\n",
       "105  2018-01-01 01:30:39  subscribe  2458151361      NaN    NaN   NaN"
      ]
     },
     "execution_count": 86,
     "metadata": {},
     "output_type": "execute_result"
    }
   ],
   "source": [
    "subscribe = dilan[dilan.event == 'subscribe']\n",
    "subscribe.head()"
   ]
  },
  {
   "cell_type": "code",
   "execution_count": 87,
   "metadata": {},
   "outputs": [
    {
     "name": "stderr",
     "output_type": "stream",
     "text": [
      "C:\\Users\\OMEN\\Anaconda3\\lib\\site-packages\\pandas\\core\\frame.py:4102: SettingWithCopyWarning: \n",
      "A value is trying to be set on a copy of a slice from a DataFrame\n",
      "\n",
      "See the caveats in the documentation: http://pandas.pydata.org/pandas-docs/stable/user_guide/indexing.html#returning-a-view-versus-a-copy\n",
      "  errors=errors,\n"
     ]
    }
   ],
   "source": [
    "subscribe.drop(['user_id', 'source', 'topic'], axis=1, inplace=True)"
   ]
  },
  {
   "cell_type": "code",
   "execution_count": 88,
   "metadata": {},
   "outputs": [
    {
     "name": "stderr",
     "output_type": "stream",
     "text": [
      "C:\\Users\\OMEN\\Anaconda3\\lib\\site-packages\\pandas\\core\\frame.py:4223: SettingWithCopyWarning: \n",
      "A value is trying to be set on a copy of a slice from a DataFrame\n",
      "\n",
      "See the caveats in the documentation: http://pandas.pydata.org/pandas-docs/stable/user_guide/indexing.html#returning-a-view-versus-a-copy\n",
      "  return super().rename(**kwargs)\n"
     ]
    }
   ],
   "source": [
    "subscribe.rename({'country': 'user_id'}, axis=1, inplace=True)"
   ]
  },
  {
   "cell_type": "code",
   "execution_count": 89,
   "metadata": {},
   "outputs": [
    {
     "data": {
      "text/html": [
       "<div>\n",
       "<style scoped>\n",
       "    .dataframe tbody tr th:only-of-type {\n",
       "        vertical-align: middle;\n",
       "    }\n",
       "\n",
       "    .dataframe tbody tr th {\n",
       "        vertical-align: top;\n",
       "    }\n",
       "\n",
       "    .dataframe thead th {\n",
       "        text-align: right;\n",
       "    }\n",
       "</style>\n",
       "<table border=\"1\" class=\"dataframe\">\n",
       "  <thead>\n",
       "    <tr style=\"text-align: right;\">\n",
       "      <th></th>\n",
       "      <th>my_date</th>\n",
       "      <th>event</th>\n",
       "      <th>user_id</th>\n",
       "    </tr>\n",
       "  </thead>\n",
       "  <tbody>\n",
       "    <tr>\n",
       "      <td>10</td>\n",
       "      <td>2018-01-01 00:07:41</td>\n",
       "      <td>subscribe</td>\n",
       "      <td>2458151268</td>\n",
       "    </tr>\n",
       "    <tr>\n",
       "      <td>11</td>\n",
       "      <td>2018-01-01 00:07:44</td>\n",
       "      <td>subscribe</td>\n",
       "      <td>2458151267</td>\n",
       "    </tr>\n",
       "    <tr>\n",
       "      <td>53</td>\n",
       "      <td>2018-01-01 00:40:55</td>\n",
       "      <td>subscribe</td>\n",
       "      <td>2458151309</td>\n",
       "    </tr>\n",
       "    <tr>\n",
       "      <td>101</td>\n",
       "      <td>2018-01-01 01:26:26</td>\n",
       "      <td>subscribe</td>\n",
       "      <td>2458151358</td>\n",
       "    </tr>\n",
       "    <tr>\n",
       "      <td>105</td>\n",
       "      <td>2018-01-01 01:30:39</td>\n",
       "      <td>subscribe</td>\n",
       "      <td>2458151361</td>\n",
       "    </tr>\n",
       "  </tbody>\n",
       "</table>\n",
       "</div>"
      ],
      "text/plain": [
       "                 my_date      event     user_id\n",
       "10   2018-01-01 00:07:41  subscribe  2458151268\n",
       "11   2018-01-01 00:07:44  subscribe  2458151267\n",
       "53   2018-01-01 00:40:55  subscribe  2458151309\n",
       "101  2018-01-01 01:26:26  subscribe  2458151358\n",
       "105  2018-01-01 01:30:39  subscribe  2458151361"
      ]
     },
     "execution_count": 89,
     "metadata": {},
     "output_type": "execute_result"
    }
   ],
   "source": [
    "subscribe.head()"
   ]
  },
  {
   "cell_type": "code",
   "execution_count": 90,
   "metadata": {},
   "outputs": [
    {
     "data": {
      "text/plain": [
       "(7618, 3)"
      ]
     },
     "execution_count": 90,
     "metadata": {},
     "output_type": "execute_result"
    }
   ],
   "source": [
    "subscribe.shape"
   ]
  },
  {
   "cell_type": "code",
   "execution_count": 91,
   "metadata": {},
   "outputs": [
    {
     "data": {
      "text/plain": [
       "7618"
      ]
     },
     "execution_count": 91,
     "metadata": {},
     "output_type": "execute_result"
    }
   ],
   "source": [
    "subscribe.user_id.nunique()"
   ]
  },
  {
   "cell_type": "code",
   "execution_count": 92,
   "metadata": {},
   "outputs": [
    {
     "name": "stdout",
     "output_type": "stream",
     "text": [
      "<class 'pandas.core.frame.DataFrame'>\n",
      "Int64Index: 7618 entries, 10 to 597717\n",
      "Data columns (total 3 columns):\n",
      "my_date    7618 non-null object\n",
      "event      7618 non-null object\n",
      "user_id    7618 non-null object\n",
      "dtypes: object(3)\n",
      "memory usage: 238.1+ KB\n"
     ]
    }
   ],
   "source": [
    "subscribe.info()"
   ]
  },
  {
   "cell_type": "code",
   "execution_count": 93,
   "metadata": {},
   "outputs": [
    {
     "name": "stderr",
     "output_type": "stream",
     "text": [
      "C:\\Users\\OMEN\\Anaconda3\\lib\\site-packages\\pandas\\core\\generic.py:5208: SettingWithCopyWarning: \n",
      "A value is trying to be set on a copy of a slice from a DataFrame.\n",
      "Try using .loc[row_indexer,col_indexer] = value instead\n",
      "\n",
      "See the caveats in the documentation: http://pandas.pydata.org/pandas-docs/stable/user_guide/indexing.html#returning-a-view-versus-a-copy\n",
      "  self[name] = value\n"
     ]
    }
   ],
   "source": [
    "subscribe.user_id = subscribe.user_id.astype(float)"
   ]
  },
  {
   "cell_type": "code",
   "execution_count": 94,
   "metadata": {},
   "outputs": [
    {
     "name": "stdout",
     "output_type": "stream",
     "text": [
      "<class 'pandas.core.frame.DataFrame'>\n",
      "Int64Index: 7618 entries, 10 to 597717\n",
      "Data columns (total 3 columns):\n",
      "my_date    7618 non-null object\n",
      "event      7618 non-null object\n",
      "user_id    7618 non-null float64\n",
      "dtypes: float64(1), object(2)\n",
      "memory usage: 238.1+ KB\n"
     ]
    }
   ],
   "source": [
    "subscribe.info()"
   ]
  },
  {
   "cell_type": "markdown",
   "metadata": {},
   "source": [
    "#### FIRST READERS AND SUBSCRIBERS"
   ]
  },
  {
   "cell_type": "code",
   "execution_count": 95,
   "metadata": {},
   "outputs": [
    {
     "data": {
      "text/html": [
       "<div>\n",
       "<style scoped>\n",
       "    .dataframe tbody tr th:only-of-type {\n",
       "        vertical-align: middle;\n",
       "    }\n",
       "\n",
       "    .dataframe tbody tr th {\n",
       "        vertical-align: top;\n",
       "    }\n",
       "\n",
       "    .dataframe thead th {\n",
       "        text-align: right;\n",
       "    }\n",
       "</style>\n",
       "<table border=\"1\" class=\"dataframe\">\n",
       "  <thead>\n",
       "    <tr style=\"text-align: right;\">\n",
       "      <th></th>\n",
       "      <th>my_date_x</th>\n",
       "      <th>event_x</th>\n",
       "      <th>country</th>\n",
       "      <th>user_id</th>\n",
       "      <th>source</th>\n",
       "      <th>topic</th>\n",
       "      <th>my_date_y</th>\n",
       "      <th>event_y</th>\n",
       "    </tr>\n",
       "  </thead>\n",
       "  <tbody>\n",
       "    <tr>\n",
       "      <td>0</td>\n",
       "      <td>2018-01-01 00:06:06</td>\n",
       "      <td>read</td>\n",
       "      <td>country_2</td>\n",
       "      <td>2.458151e+09</td>\n",
       "      <td>Reddit</td>\n",
       "      <td>Europe</td>\n",
       "      <td>2018-01-01 00:07:44</td>\n",
       "      <td>subscribe</td>\n",
       "    </tr>\n",
       "    <tr>\n",
       "      <td>1</td>\n",
       "      <td>2018-01-01 00:06:15</td>\n",
       "      <td>read</td>\n",
       "      <td>country_6</td>\n",
       "      <td>2.458151e+09</td>\n",
       "      <td>AdWords</td>\n",
       "      <td>Europe</td>\n",
       "      <td>2018-01-01 00:07:41</td>\n",
       "      <td>subscribe</td>\n",
       "    </tr>\n",
       "    <tr>\n",
       "      <td>2</td>\n",
       "      <td>2018-01-01 00:08:57</td>\n",
       "      <td>read</td>\n",
       "      <td>country_7</td>\n",
       "      <td>2.458151e+09</td>\n",
       "      <td>SEO</td>\n",
       "      <td>Australia</td>\n",
       "      <td>2018-01-02 20:33:06</td>\n",
       "      <td>subscribe</td>\n",
       "    </tr>\n",
       "    <tr>\n",
       "      <td>3</td>\n",
       "      <td>2018-01-01 00:13:39</td>\n",
       "      <td>read</td>\n",
       "      <td>country_4</td>\n",
       "      <td>2.458151e+09</td>\n",
       "      <td>SEO</td>\n",
       "      <td>North America</td>\n",
       "      <td>2018-01-04 01:53:26</td>\n",
       "      <td>subscribe</td>\n",
       "    </tr>\n",
       "    <tr>\n",
       "      <td>4</td>\n",
       "      <td>2018-01-01 00:20:18</td>\n",
       "      <td>read</td>\n",
       "      <td>country_5</td>\n",
       "      <td>2.458151e+09</td>\n",
       "      <td>SEO</td>\n",
       "      <td>North America</td>\n",
       "      <td>2018-01-03 16:50:17</td>\n",
       "      <td>subscribe</td>\n",
       "    </tr>\n",
       "  </tbody>\n",
       "</table>\n",
       "</div>"
      ],
      "text/plain": [
       "             my_date_x event_x    country       user_id   source  \\\n",
       "0  2018-01-01 00:06:06    read  country_2  2.458151e+09   Reddit   \n",
       "1  2018-01-01 00:06:15    read  country_6  2.458151e+09  AdWords   \n",
       "2  2018-01-01 00:08:57    read  country_7  2.458151e+09      SEO   \n",
       "3  2018-01-01 00:13:39    read  country_4  2.458151e+09      SEO   \n",
       "4  2018-01-01 00:20:18    read  country_5  2.458151e+09      SEO   \n",
       "\n",
       "           topic            my_date_y    event_y  \n",
       "0         Europe  2018-01-01 00:07:44  subscribe  \n",
       "1         Europe  2018-01-01 00:07:41  subscribe  \n",
       "2      Australia  2018-01-02 20:33:06  subscribe  \n",
       "3  North America  2018-01-04 01:53:26  subscribe  \n",
       "4  North America  2018-01-03 16:50:17  subscribe  "
      ]
     },
     "execution_count": 95,
     "metadata": {},
     "output_type": "execute_result"
    }
   ],
   "source": [
    "rsubs = read_first.merge(subscribe, on='user_id', how='right')\n",
    "rsubs.head()"
   ]
  },
  {
   "cell_type": "code",
   "execution_count": 96,
   "metadata": {},
   "outputs": [
    {
     "data": {
      "text/plain": [
       "country\n",
       "country_1      28\n",
       "country_2    1558\n",
       "country_3     160\n",
       "country_4    1419\n",
       "country_5    2334\n",
       "country_6     546\n",
       "country_7    1470\n",
       "country_8     103\n",
       "Name: user_id, dtype: int64"
      ]
     },
     "execution_count": 96,
     "metadata": {},
     "output_type": "execute_result"
    }
   ],
   "source": [
    "sub2 = rsubs.groupby('country').count()['user_id']\n",
    "sub2"
   ]
  },
  {
   "cell_type": "code",
   "execution_count": 97,
   "metadata": {},
   "outputs": [],
   "source": [
    "sub2 = sub2.to_frame()\n",
    "sub2.reset_index(inplace=True)"
   ]
  },
  {
   "cell_type": "code",
   "execution_count": 98,
   "metadata": {},
   "outputs": [],
   "source": [
    "sub2.rename({'user_id' : 'subscribers'}, axis=1, inplace=True)"
   ]
  },
  {
   "cell_type": "code",
   "execution_count": 99,
   "metadata": {},
   "outputs": [
    {
     "data": {
      "text/html": [
       "<div>\n",
       "<style scoped>\n",
       "    .dataframe tbody tr th:only-of-type {\n",
       "        vertical-align: middle;\n",
       "    }\n",
       "\n",
       "    .dataframe tbody tr th {\n",
       "        vertical-align: top;\n",
       "    }\n",
       "\n",
       "    .dataframe thead th {\n",
       "        text-align: right;\n",
       "    }\n",
       "</style>\n",
       "<table border=\"1\" class=\"dataframe\">\n",
       "  <thead>\n",
       "    <tr style=\"text-align: right;\">\n",
       "      <th></th>\n",
       "      <th>country</th>\n",
       "      <th>subscribers</th>\n",
       "    </tr>\n",
       "  </thead>\n",
       "  <tbody>\n",
       "    <tr>\n",
       "      <td>0</td>\n",
       "      <td>country_1</td>\n",
       "      <td>28</td>\n",
       "    </tr>\n",
       "    <tr>\n",
       "      <td>1</td>\n",
       "      <td>country_2</td>\n",
       "      <td>1558</td>\n",
       "    </tr>\n",
       "    <tr>\n",
       "      <td>2</td>\n",
       "      <td>country_3</td>\n",
       "      <td>160</td>\n",
       "    </tr>\n",
       "    <tr>\n",
       "      <td>3</td>\n",
       "      <td>country_4</td>\n",
       "      <td>1419</td>\n",
       "    </tr>\n",
       "    <tr>\n",
       "      <td>4</td>\n",
       "      <td>country_5</td>\n",
       "      <td>2334</td>\n",
       "    </tr>\n",
       "    <tr>\n",
       "      <td>5</td>\n",
       "      <td>country_6</td>\n",
       "      <td>546</td>\n",
       "    </tr>\n",
       "    <tr>\n",
       "      <td>6</td>\n",
       "      <td>country_7</td>\n",
       "      <td>1470</td>\n",
       "    </tr>\n",
       "    <tr>\n",
       "      <td>7</td>\n",
       "      <td>country_8</td>\n",
       "      <td>103</td>\n",
       "    </tr>\n",
       "  </tbody>\n",
       "</table>\n",
       "</div>"
      ],
      "text/plain": [
       "     country  subscribers\n",
       "0  country_1           28\n",
       "1  country_2         1558\n",
       "2  country_3          160\n",
       "3  country_4         1419\n",
       "4  country_5         2334\n",
       "5  country_6          546\n",
       "6  country_7         1470\n",
       "7  country_8          103"
      ]
     },
     "execution_count": 99,
     "metadata": {},
     "output_type": "execute_result"
    }
   ],
   "source": [
    "sub2"
   ]
  },
  {
   "cell_type": "code",
   "execution_count": 100,
   "metadata": {},
   "outputs": [
    {
     "data": {
      "text/plain": [
       "Reddit     3443\n",
       "SEO        3103\n",
       "AdWords    1072\n",
       "Name: source, dtype: int64"
      ]
     },
     "execution_count": 100,
     "metadata": {},
     "output_type": "execute_result"
    }
   ],
   "source": [
    "rsubs.source.value_counts() # source and subscribers"
   ]
  },
  {
   "cell_type": "markdown",
   "metadata": {},
   "source": [
    "### BUYERS"
   ]
  },
  {
   "cell_type": "code",
   "execution_count": 101,
   "metadata": {},
   "outputs": [
    {
     "data": {
      "text/html": [
       "<div>\n",
       "<style scoped>\n",
       "    .dataframe tbody tr th:only-of-type {\n",
       "        vertical-align: middle;\n",
       "    }\n",
       "\n",
       "    .dataframe tbody tr th {\n",
       "        vertical-align: top;\n",
       "    }\n",
       "\n",
       "    .dataframe thead th {\n",
       "        text-align: right;\n",
       "    }\n",
       "</style>\n",
       "<table border=\"1\" class=\"dataframe\">\n",
       "  <thead>\n",
       "    <tr style=\"text-align: right;\">\n",
       "      <th></th>\n",
       "      <th>my_date</th>\n",
       "      <th>event</th>\n",
       "      <th>country</th>\n",
       "      <th>user_id</th>\n",
       "      <th>source</th>\n",
       "      <th>topic</th>\n",
       "    </tr>\n",
       "  </thead>\n",
       "  <tbody>\n",
       "    <tr>\n",
       "      <td>320</td>\n",
       "      <td>2018-01-01 04:04:59</td>\n",
       "      <td>buy</td>\n",
       "      <td>2458151555</td>\n",
       "      <td>8.0</td>\n",
       "      <td>NaN</td>\n",
       "      <td>NaN</td>\n",
       "    </tr>\n",
       "    <tr>\n",
       "      <td>745</td>\n",
       "      <td>2018-01-01 09:28:00</td>\n",
       "      <td>buy</td>\n",
       "      <td>2458151933</td>\n",
       "      <td>8.0</td>\n",
       "      <td>NaN</td>\n",
       "      <td>NaN</td>\n",
       "    </tr>\n",
       "    <tr>\n",
       "      <td>1073</td>\n",
       "      <td>2018-01-01 13:23:16</td>\n",
       "      <td>buy</td>\n",
       "      <td>2458152245</td>\n",
       "      <td>8.0</td>\n",
       "      <td>NaN</td>\n",
       "      <td>NaN</td>\n",
       "    </tr>\n",
       "    <tr>\n",
       "      <td>1150</td>\n",
       "      <td>2018-01-01 14:20:43</td>\n",
       "      <td>buy</td>\n",
       "      <td>2458152315</td>\n",
       "      <td>8.0</td>\n",
       "      <td>NaN</td>\n",
       "      <td>NaN</td>\n",
       "    </tr>\n",
       "    <tr>\n",
       "      <td>1351</td>\n",
       "      <td>2018-01-01 16:56:04</td>\n",
       "      <td>buy</td>\n",
       "      <td>2458152371</td>\n",
       "      <td>8.0</td>\n",
       "      <td>NaN</td>\n",
       "      <td>NaN</td>\n",
       "    </tr>\n",
       "  </tbody>\n",
       "</table>\n",
       "</div>"
      ],
      "text/plain": [
       "                  my_date event     country  user_id source topic\n",
       "320   2018-01-01 04:04:59   buy  2458151555      8.0    NaN   NaN\n",
       "745   2018-01-01 09:28:00   buy  2458151933      8.0    NaN   NaN\n",
       "1073  2018-01-01 13:23:16   buy  2458152245      8.0    NaN   NaN\n",
       "1150  2018-01-01 14:20:43   buy  2458152315      8.0    NaN   NaN\n",
       "1351  2018-01-01 16:56:04   buy  2458152371      8.0    NaN   NaN"
      ]
     },
     "execution_count": 101,
     "metadata": {},
     "output_type": "execute_result"
    }
   ],
   "source": [
    "buy = dilan[dilan.event == 'buy']\n",
    "buy.head()"
   ]
  },
  {
   "cell_type": "code",
   "execution_count": 102,
   "metadata": {},
   "outputs": [
    {
     "data": {
      "text/plain": [
       "(8407, 6)"
      ]
     },
     "execution_count": 102,
     "metadata": {},
     "output_type": "execute_result"
    }
   ],
   "source": [
    "buy.shape"
   ]
  },
  {
   "cell_type": "code",
   "execution_count": 103,
   "metadata": {},
   "outputs": [],
   "source": [
    "buy.rename({'country': 'user_id', 'user_id': 'products'}, axis=1, inplace=True)"
   ]
  },
  {
   "cell_type": "code",
   "execution_count": 104,
   "metadata": {},
   "outputs": [
    {
     "data": {
      "text/html": [
       "<div>\n",
       "<style scoped>\n",
       "    .dataframe tbody tr th:only-of-type {\n",
       "        vertical-align: middle;\n",
       "    }\n",
       "\n",
       "    .dataframe tbody tr th {\n",
       "        vertical-align: top;\n",
       "    }\n",
       "\n",
       "    .dataframe thead th {\n",
       "        text-align: right;\n",
       "    }\n",
       "</style>\n",
       "<table border=\"1\" class=\"dataframe\">\n",
       "  <thead>\n",
       "    <tr style=\"text-align: right;\">\n",
       "      <th></th>\n",
       "      <th>my_date</th>\n",
       "      <th>event</th>\n",
       "      <th>user_id</th>\n",
       "      <th>products</th>\n",
       "      <th>source</th>\n",
       "      <th>topic</th>\n",
       "    </tr>\n",
       "  </thead>\n",
       "  <tbody>\n",
       "    <tr>\n",
       "      <td>320</td>\n",
       "      <td>2018-01-01 04:04:59</td>\n",
       "      <td>buy</td>\n",
       "      <td>2458151555</td>\n",
       "      <td>8.0</td>\n",
       "      <td>NaN</td>\n",
       "      <td>NaN</td>\n",
       "    </tr>\n",
       "    <tr>\n",
       "      <td>745</td>\n",
       "      <td>2018-01-01 09:28:00</td>\n",
       "      <td>buy</td>\n",
       "      <td>2458151933</td>\n",
       "      <td>8.0</td>\n",
       "      <td>NaN</td>\n",
       "      <td>NaN</td>\n",
       "    </tr>\n",
       "    <tr>\n",
       "      <td>1073</td>\n",
       "      <td>2018-01-01 13:23:16</td>\n",
       "      <td>buy</td>\n",
       "      <td>2458152245</td>\n",
       "      <td>8.0</td>\n",
       "      <td>NaN</td>\n",
       "      <td>NaN</td>\n",
       "    </tr>\n",
       "    <tr>\n",
       "      <td>1150</td>\n",
       "      <td>2018-01-01 14:20:43</td>\n",
       "      <td>buy</td>\n",
       "      <td>2458152315</td>\n",
       "      <td>8.0</td>\n",
       "      <td>NaN</td>\n",
       "      <td>NaN</td>\n",
       "    </tr>\n",
       "    <tr>\n",
       "      <td>1351</td>\n",
       "      <td>2018-01-01 16:56:04</td>\n",
       "      <td>buy</td>\n",
       "      <td>2458152371</td>\n",
       "      <td>8.0</td>\n",
       "      <td>NaN</td>\n",
       "      <td>NaN</td>\n",
       "    </tr>\n",
       "  </tbody>\n",
       "</table>\n",
       "</div>"
      ],
      "text/plain": [
       "                  my_date event     user_id  products source topic\n",
       "320   2018-01-01 04:04:59   buy  2458151555       8.0    NaN   NaN\n",
       "745   2018-01-01 09:28:00   buy  2458151933       8.0    NaN   NaN\n",
       "1073  2018-01-01 13:23:16   buy  2458152245       8.0    NaN   NaN\n",
       "1150  2018-01-01 14:20:43   buy  2458152315       8.0    NaN   NaN\n",
       "1351  2018-01-01 16:56:04   buy  2458152371       8.0    NaN   NaN"
      ]
     },
     "execution_count": 104,
     "metadata": {},
     "output_type": "execute_result"
    }
   ],
   "source": [
    "buy.head()"
   ]
  },
  {
   "cell_type": "code",
   "execution_count": 105,
   "metadata": {},
   "outputs": [],
   "source": [
    "buy.drop(['topic', 'source'], axis=1, inplace=True)"
   ]
  },
  {
   "cell_type": "code",
   "execution_count": 106,
   "metadata": {},
   "outputs": [
    {
     "data": {
      "text/html": [
       "<div>\n",
       "<style scoped>\n",
       "    .dataframe tbody tr th:only-of-type {\n",
       "        vertical-align: middle;\n",
       "    }\n",
       "\n",
       "    .dataframe tbody tr th {\n",
       "        vertical-align: top;\n",
       "    }\n",
       "\n",
       "    .dataframe thead th {\n",
       "        text-align: right;\n",
       "    }\n",
       "</style>\n",
       "<table border=\"1\" class=\"dataframe\">\n",
       "  <thead>\n",
       "    <tr style=\"text-align: right;\">\n",
       "      <th></th>\n",
       "      <th>my_date</th>\n",
       "      <th>event</th>\n",
       "      <th>user_id</th>\n",
       "      <th>products</th>\n",
       "    </tr>\n",
       "  </thead>\n",
       "  <tbody>\n",
       "    <tr>\n",
       "      <td>320</td>\n",
       "      <td>2018-01-01 04:04:59</td>\n",
       "      <td>buy</td>\n",
       "      <td>2458151555</td>\n",
       "      <td>8.0</td>\n",
       "    </tr>\n",
       "    <tr>\n",
       "      <td>745</td>\n",
       "      <td>2018-01-01 09:28:00</td>\n",
       "      <td>buy</td>\n",
       "      <td>2458151933</td>\n",
       "      <td>8.0</td>\n",
       "    </tr>\n",
       "    <tr>\n",
       "      <td>1073</td>\n",
       "      <td>2018-01-01 13:23:16</td>\n",
       "      <td>buy</td>\n",
       "      <td>2458152245</td>\n",
       "      <td>8.0</td>\n",
       "    </tr>\n",
       "    <tr>\n",
       "      <td>1150</td>\n",
       "      <td>2018-01-01 14:20:43</td>\n",
       "      <td>buy</td>\n",
       "      <td>2458152315</td>\n",
       "      <td>8.0</td>\n",
       "    </tr>\n",
       "    <tr>\n",
       "      <td>1351</td>\n",
       "      <td>2018-01-01 16:56:04</td>\n",
       "      <td>buy</td>\n",
       "      <td>2458152371</td>\n",
       "      <td>8.0</td>\n",
       "    </tr>\n",
       "  </tbody>\n",
       "</table>\n",
       "</div>"
      ],
      "text/plain": [
       "                  my_date event     user_id  products\n",
       "320   2018-01-01 04:04:59   buy  2458151555       8.0\n",
       "745   2018-01-01 09:28:00   buy  2458151933       8.0\n",
       "1073  2018-01-01 13:23:16   buy  2458152245       8.0\n",
       "1150  2018-01-01 14:20:43   buy  2458152315       8.0\n",
       "1351  2018-01-01 16:56:04   buy  2458152371       8.0"
      ]
     },
     "execution_count": 106,
     "metadata": {},
     "output_type": "execute_result"
    }
   ],
   "source": [
    "buy.head()"
   ]
  },
  {
   "cell_type": "code",
   "execution_count": 107,
   "metadata": {},
   "outputs": [
    {
     "data": {
      "text/plain": [
       "8.0     6640\n",
       "80.0    1767\n",
       "Name: products, dtype: int64"
      ]
     },
     "execution_count": 107,
     "metadata": {},
     "output_type": "execute_result"
    }
   ],
   "source": [
    "buy.products.value_counts()"
   ]
  },
  {
   "cell_type": "code",
   "execution_count": 108,
   "metadata": {},
   "outputs": [
    {
     "data": {
      "text/plain": [
       "6648"
      ]
     },
     "execution_count": 108,
     "metadata": {},
     "output_type": "execute_result"
    }
   ],
   "source": [
    "buy.user_id.nunique()"
   ]
  },
  {
   "cell_type": "code",
   "execution_count": 109,
   "metadata": {},
   "outputs": [
    {
     "data": {
      "text/plain": [
       "194480.0"
      ]
     },
     "execution_count": 109,
     "metadata": {},
     "output_type": "execute_result"
    }
   ],
   "source": [
    "buy.products.sum()"
   ]
  },
  {
   "cell_type": "code",
   "execution_count": 110,
   "metadata": {},
   "outputs": [
    {
     "name": "stdout",
     "output_type": "stream",
     "text": [
      "<class 'pandas.core.frame.DataFrame'>\n",
      "Int64Index: 8407 entries, 320 to 597750\n",
      "Data columns (total 4 columns):\n",
      "my_date     8407 non-null object\n",
      "event       8407 non-null object\n",
      "user_id     8407 non-null object\n",
      "products    8407 non-null float64\n",
      "dtypes: float64(1), object(3)\n",
      "memory usage: 328.4+ KB\n"
     ]
    }
   ],
   "source": [
    "buy.info()"
   ]
  },
  {
   "cell_type": "code",
   "execution_count": 111,
   "metadata": {},
   "outputs": [],
   "source": [
    "buy.user_id = buy.user_id.astype(float)"
   ]
  },
  {
   "cell_type": "code",
   "execution_count": 113,
   "metadata": {},
   "outputs": [
    {
     "data": {
      "image/png": "[encoded data removed]",
      "text/plain": [
       "<Figure size 720x720 with 1 Axes>"
      ]
     },
     "metadata": {},
     "output_type": "display_data"
    }
   ],
   "source": [
    "labels = buy.products.value_counts().index\n",
    "colors = ['cyan','red']\n",
    "explode = [0.1,0]      # explode 1st slice\n",
    "sizes = buy.products.value_counts().values\n",
    "\n",
    "# visual\n",
    "plt.figure(figsize = (10,10))\n",
    "plt.pie(sizes, explode=explode, labels=labels, colors=colors, autopct='%1.2f%%')\n",
    "plt.title('Videos and ebooks',color = 'blue',fontsize = 15)\n",
    "plt.savefig('Products.png')"
   ]
  },
  {
   "cell_type": "markdown",
   "metadata": {},
   "source": [
    "### FIRST READERS AND BUYERS"
   ]
  },
  {
   "cell_type": "code",
   "execution_count": 114,
   "metadata": {},
   "outputs": [
    {
     "data": {
      "text/html": [
       "<div>\n",
       "<style scoped>\n",
       "    .dataframe tbody tr th:only-of-type {\n",
       "        vertical-align: middle;\n",
       "    }\n",
       "\n",
       "    .dataframe tbody tr th {\n",
       "        vertical-align: top;\n",
       "    }\n",
       "\n",
       "    .dataframe thead th {\n",
       "        text-align: right;\n",
       "    }\n",
       "</style>\n",
       "<table border=\"1\" class=\"dataframe\">\n",
       "  <thead>\n",
       "    <tr style=\"text-align: right;\">\n",
       "      <th></th>\n",
       "      <th>my_date_x</th>\n",
       "      <th>event_x</th>\n",
       "      <th>country</th>\n",
       "      <th>user_id</th>\n",
       "      <th>source</th>\n",
       "      <th>topic</th>\n",
       "      <th>my_date_y</th>\n",
       "      <th>event_y</th>\n",
       "      <th>products</th>\n",
       "    </tr>\n",
       "  </thead>\n",
       "  <tbody>\n",
       "    <tr>\n",
       "      <td>0</td>\n",
       "      <td>2018-01-01 00:13:39</td>\n",
       "      <td>read</td>\n",
       "      <td>country_4</td>\n",
       "      <td>2.458151e+09</td>\n",
       "      <td>SEO</td>\n",
       "      <td>North America</td>\n",
       "      <td>2018-01-04 00:50:27</td>\n",
       "      <td>buy</td>\n",
       "      <td>8.0</td>\n",
       "    </tr>\n",
       "    <tr>\n",
       "      <td>1</td>\n",
       "      <td>2018-01-01 00:13:39</td>\n",
       "      <td>read</td>\n",
       "      <td>country_4</td>\n",
       "      <td>2.458151e+09</td>\n",
       "      <td>SEO</td>\n",
       "      <td>North America</td>\n",
       "      <td>2018-01-05 10:23:05</td>\n",
       "      <td>buy</td>\n",
       "      <td>80.0</td>\n",
       "    </tr>\n",
       "    <tr>\n",
       "      <td>2</td>\n",
       "      <td>2018-01-01 00:56:27</td>\n",
       "      <td>read</td>\n",
       "      <td>country_6</td>\n",
       "      <td>2.458151e+09</td>\n",
       "      <td>SEO</td>\n",
       "      <td>Asia</td>\n",
       "      <td>2018-01-10 02:09:21</td>\n",
       "      <td>buy</td>\n",
       "      <td>8.0</td>\n",
       "    </tr>\n",
       "    <tr>\n",
       "      <td>3</td>\n",
       "      <td>2018-01-01 01:19:01</td>\n",
       "      <td>read</td>\n",
       "      <td>country_5</td>\n",
       "      <td>2.458151e+09</td>\n",
       "      <td>Reddit</td>\n",
       "      <td>Asia</td>\n",
       "      <td>2018-02-24 18:22:05</td>\n",
       "      <td>buy</td>\n",
       "      <td>8.0</td>\n",
       "    </tr>\n",
       "    <tr>\n",
       "      <td>4</td>\n",
       "      <td>2018-01-01 01:32:38</td>\n",
       "      <td>read</td>\n",
       "      <td>country_5</td>\n",
       "      <td>2.458151e+09</td>\n",
       "      <td>Reddit</td>\n",
       "      <td>Asia</td>\n",
       "      <td>2018-01-22 08:09:06</td>\n",
       "      <td>buy</td>\n",
       "      <td>8.0</td>\n",
       "    </tr>\n",
       "  </tbody>\n",
       "</table>\n",
       "</div>"
      ],
      "text/plain": [
       "             my_date_x event_x    country       user_id  source  \\\n",
       "0  2018-01-01 00:13:39    read  country_4  2.458151e+09     SEO   \n",
       "1  2018-01-01 00:13:39    read  country_4  2.458151e+09     SEO   \n",
       "2  2018-01-01 00:56:27    read  country_6  2.458151e+09     SEO   \n",
       "3  2018-01-01 01:19:01    read  country_5  2.458151e+09  Reddit   \n",
       "4  2018-01-01 01:32:38    read  country_5  2.458151e+09  Reddit   \n",
       "\n",
       "           topic            my_date_y event_y  products  \n",
       "0  North America  2018-01-04 00:50:27     buy       8.0  \n",
       "1  North America  2018-01-05 10:23:05     buy      80.0  \n",
       "2           Asia  2018-01-10 02:09:21     buy       8.0  \n",
       "3           Asia  2018-02-24 18:22:05     buy       8.0  \n",
       "4           Asia  2018-01-22 08:09:06     buy       8.0  "
      ]
     },
     "execution_count": 114,
     "metadata": {},
     "output_type": "execute_result"
    }
   ],
   "source": [
    "rbuy = read_first.merge(buy, on='user_id', how='right')\n",
    "rbuy.head()"
   ]
  },
  {
   "cell_type": "code",
   "execution_count": 115,
   "metadata": {},
   "outputs": [
    {
     "data": {
      "text/plain": [
       "country    products\n",
       "country_1  8.0           25\n",
       "           80.0           9\n",
       "country_2  8.0         1441\n",
       "           80.0         350\n",
       "country_3  8.0          112\n",
       "           80.0          34\n",
       "country_4  8.0         1093\n",
       "           80.0         309\n",
       "country_5  8.0         1970\n",
       "           80.0         527\n",
       "country_6  8.0          534\n",
       "           80.0         152\n",
       "country_7  8.0         1380\n",
       "           80.0         359\n",
       "country_8  8.0           85\n",
       "           80.0          27\n",
       "Name: user_id, dtype: int64"
      ]
     },
     "execution_count": 115,
     "metadata": {},
     "output_type": "execute_result"
    }
   ],
   "source": [
    "rbuy_tabel = rbuy.groupby(['country', 'products']).count()['user_id']\n",
    "rbuy_tabel"
   ]
  },
  {
   "cell_type": "code",
   "execution_count": 116,
   "metadata": {},
   "outputs": [],
   "source": [
    "rbuy_tabel = rbuy_tabel.to_frame()\n",
    "rbuy_tabel.reset_index(inplace=True)"
   ]
  },
  {
   "cell_type": "code",
   "execution_count": 117,
   "metadata": {},
   "outputs": [
    {
     "data": {
      "text/html": [
       "<div>\n",
       "<style scoped>\n",
       "    .dataframe tbody tr th:only-of-type {\n",
       "        vertical-align: middle;\n",
       "    }\n",
       "\n",
       "    .dataframe tbody tr th {\n",
       "        vertical-align: top;\n",
       "    }\n",
       "\n",
       "    .dataframe thead th {\n",
       "        text-align: right;\n",
       "    }\n",
       "</style>\n",
       "<table border=\"1\" class=\"dataframe\">\n",
       "  <thead>\n",
       "    <tr style=\"text-align: right;\">\n",
       "      <th></th>\n",
       "      <th>country</th>\n",
       "      <th>products</th>\n",
       "      <th>user_id</th>\n",
       "    </tr>\n",
       "  </thead>\n",
       "  <tbody>\n",
       "    <tr>\n",
       "      <td>0</td>\n",
       "      <td>country_1</td>\n",
       "      <td>8.0</td>\n",
       "      <td>25</td>\n",
       "    </tr>\n",
       "    <tr>\n",
       "      <td>1</td>\n",
       "      <td>country_1</td>\n",
       "      <td>80.0</td>\n",
       "      <td>9</td>\n",
       "    </tr>\n",
       "    <tr>\n",
       "      <td>2</td>\n",
       "      <td>country_2</td>\n",
       "      <td>8.0</td>\n",
       "      <td>1441</td>\n",
       "    </tr>\n",
       "    <tr>\n",
       "      <td>3</td>\n",
       "      <td>country_2</td>\n",
       "      <td>80.0</td>\n",
       "      <td>350</td>\n",
       "    </tr>\n",
       "    <tr>\n",
       "      <td>4</td>\n",
       "      <td>country_3</td>\n",
       "      <td>8.0</td>\n",
       "      <td>112</td>\n",
       "    </tr>\n",
       "    <tr>\n",
       "      <td>5</td>\n",
       "      <td>country_3</td>\n",
       "      <td>80.0</td>\n",
       "      <td>34</td>\n",
       "    </tr>\n",
       "    <tr>\n",
       "      <td>6</td>\n",
       "      <td>country_4</td>\n",
       "      <td>8.0</td>\n",
       "      <td>1093</td>\n",
       "    </tr>\n",
       "    <tr>\n",
       "      <td>7</td>\n",
       "      <td>country_4</td>\n",
       "      <td>80.0</td>\n",
       "      <td>309</td>\n",
       "    </tr>\n",
       "    <tr>\n",
       "      <td>8</td>\n",
       "      <td>country_5</td>\n",
       "      <td>8.0</td>\n",
       "      <td>1970</td>\n",
       "    </tr>\n",
       "    <tr>\n",
       "      <td>9</td>\n",
       "      <td>country_5</td>\n",
       "      <td>80.0</td>\n",
       "      <td>527</td>\n",
       "    </tr>\n",
       "    <tr>\n",
       "      <td>10</td>\n",
       "      <td>country_6</td>\n",
       "      <td>8.0</td>\n",
       "      <td>534</td>\n",
       "    </tr>\n",
       "    <tr>\n",
       "      <td>11</td>\n",
       "      <td>country_6</td>\n",
       "      <td>80.0</td>\n",
       "      <td>152</td>\n",
       "    </tr>\n",
       "    <tr>\n",
       "      <td>12</td>\n",
       "      <td>country_7</td>\n",
       "      <td>8.0</td>\n",
       "      <td>1380</td>\n",
       "    </tr>\n",
       "    <tr>\n",
       "      <td>13</td>\n",
       "      <td>country_7</td>\n",
       "      <td>80.0</td>\n",
       "      <td>359</td>\n",
       "    </tr>\n",
       "    <tr>\n",
       "      <td>14</td>\n",
       "      <td>country_8</td>\n",
       "      <td>8.0</td>\n",
       "      <td>85</td>\n",
       "    </tr>\n",
       "    <tr>\n",
       "      <td>15</td>\n",
       "      <td>country_8</td>\n",
       "      <td>80.0</td>\n",
       "      <td>27</td>\n",
       "    </tr>\n",
       "  </tbody>\n",
       "</table>\n",
       "</div>"
      ],
      "text/plain": [
       "      country  products  user_id\n",
       "0   country_1       8.0       25\n",
       "1   country_1      80.0        9\n",
       "2   country_2       8.0     1441\n",
       "3   country_2      80.0      350\n",
       "4   country_3       8.0      112\n",
       "5   country_3      80.0       34\n",
       "6   country_4       8.0     1093\n",
       "7   country_4      80.0      309\n",
       "8   country_5       8.0     1970\n",
       "9   country_5      80.0      527\n",
       "10  country_6       8.0      534\n",
       "11  country_6      80.0      152\n",
       "12  country_7       8.0     1380\n",
       "13  country_7      80.0      359\n",
       "14  country_8       8.0       85\n",
       "15  country_8      80.0       27"
      ]
     },
     "execution_count": 117,
     "metadata": {},
     "output_type": "execute_result"
    }
   ],
   "source": [
    "rbuy_tabel"
   ]
  },
  {
   "cell_type": "code",
   "execution_count": 118,
   "metadata": {},
   "outputs": [],
   "source": [
    "video = rbuy_tabel[rbuy_tabel.products == 80]\n",
    "video.rename({'products' : 'video', 'user_id':'video_buyers'}, axis=1, inplace=True)"
   ]
  },
  {
   "cell_type": "code",
   "execution_count": 119,
   "metadata": {},
   "outputs": [
    {
     "data": {
      "text/html": [
       "<div>\n",
       "<style scoped>\n",
       "    .dataframe tbody tr th:only-of-type {\n",
       "        vertical-align: middle;\n",
       "    }\n",
       "\n",
       "    .dataframe tbody tr th {\n",
       "        vertical-align: top;\n",
       "    }\n",
       "\n",
       "    .dataframe thead th {\n",
       "        text-align: right;\n",
       "    }\n",
       "</style>\n",
       "<table border=\"1\" class=\"dataframe\">\n",
       "  <thead>\n",
       "    <tr style=\"text-align: right;\">\n",
       "      <th></th>\n",
       "      <th>country</th>\n",
       "      <th>video</th>\n",
       "      <th>video_buyers</th>\n",
       "    </tr>\n",
       "  </thead>\n",
       "  <tbody>\n",
       "    <tr>\n",
       "      <td>1</td>\n",
       "      <td>country_1</td>\n",
       "      <td>80.0</td>\n",
       "      <td>9</td>\n",
       "    </tr>\n",
       "    <tr>\n",
       "      <td>3</td>\n",
       "      <td>country_2</td>\n",
       "      <td>80.0</td>\n",
       "      <td>350</td>\n",
       "    </tr>\n",
       "    <tr>\n",
       "      <td>5</td>\n",
       "      <td>country_3</td>\n",
       "      <td>80.0</td>\n",
       "      <td>34</td>\n",
       "    </tr>\n",
       "    <tr>\n",
       "      <td>7</td>\n",
       "      <td>country_4</td>\n",
       "      <td>80.0</td>\n",
       "      <td>309</td>\n",
       "    </tr>\n",
       "    <tr>\n",
       "      <td>9</td>\n",
       "      <td>country_5</td>\n",
       "      <td>80.0</td>\n",
       "      <td>527</td>\n",
       "    </tr>\n",
       "    <tr>\n",
       "      <td>11</td>\n",
       "      <td>country_6</td>\n",
       "      <td>80.0</td>\n",
       "      <td>152</td>\n",
       "    </tr>\n",
       "    <tr>\n",
       "      <td>13</td>\n",
       "      <td>country_7</td>\n",
       "      <td>80.0</td>\n",
       "      <td>359</td>\n",
       "    </tr>\n",
       "    <tr>\n",
       "      <td>15</td>\n",
       "      <td>country_8</td>\n",
       "      <td>80.0</td>\n",
       "      <td>27</td>\n",
       "    </tr>\n",
       "  </tbody>\n",
       "</table>\n",
       "</div>"
      ],
      "text/plain": [
       "      country  video  video_buyers\n",
       "1   country_1   80.0             9\n",
       "3   country_2   80.0           350\n",
       "5   country_3   80.0            34\n",
       "7   country_4   80.0           309\n",
       "9   country_5   80.0           527\n",
       "11  country_6   80.0           152\n",
       "13  country_7   80.0           359\n",
       "15  country_8   80.0            27"
      ]
     },
     "execution_count": 119,
     "metadata": {},
     "output_type": "execute_result"
    }
   ],
   "source": [
    "video"
   ]
  },
  {
   "cell_type": "code",
   "execution_count": 120,
   "metadata": {},
   "outputs": [],
   "source": [
    "ebook = rbuy_tabel[rbuy_tabel.products == 8]\n",
    "ebook.rename({'products' : 'ebook', 'user_id':'ebook_buyers'}, axis=1, inplace=True)"
   ]
  },
  {
   "cell_type": "code",
   "execution_count": 121,
   "metadata": {},
   "outputs": [
    {
     "data": {
      "text/html": [
       "<div>\n",
       "<style scoped>\n",
       "    .dataframe tbody tr th:only-of-type {\n",
       "        vertical-align: middle;\n",
       "    }\n",
       "\n",
       "    .dataframe tbody tr th {\n",
       "        vertical-align: top;\n",
       "    }\n",
       "\n",
       "    .dataframe thead th {\n",
       "        text-align: right;\n",
       "    }\n",
       "</style>\n",
       "<table border=\"1\" class=\"dataframe\">\n",
       "  <thead>\n",
       "    <tr style=\"text-align: right;\">\n",
       "      <th></th>\n",
       "      <th>country</th>\n",
       "      <th>ebook</th>\n",
       "      <th>ebook_buyers</th>\n",
       "    </tr>\n",
       "  </thead>\n",
       "  <tbody>\n",
       "    <tr>\n",
       "      <td>0</td>\n",
       "      <td>country_1</td>\n",
       "      <td>8.0</td>\n",
       "      <td>25</td>\n",
       "    </tr>\n",
       "    <tr>\n",
       "      <td>2</td>\n",
       "      <td>country_2</td>\n",
       "      <td>8.0</td>\n",
       "      <td>1441</td>\n",
       "    </tr>\n",
       "    <tr>\n",
       "      <td>4</td>\n",
       "      <td>country_3</td>\n",
       "      <td>8.0</td>\n",
       "      <td>112</td>\n",
       "    </tr>\n",
       "    <tr>\n",
       "      <td>6</td>\n",
       "      <td>country_4</td>\n",
       "      <td>8.0</td>\n",
       "      <td>1093</td>\n",
       "    </tr>\n",
       "    <tr>\n",
       "      <td>8</td>\n",
       "      <td>country_5</td>\n",
       "      <td>8.0</td>\n",
       "      <td>1970</td>\n",
       "    </tr>\n",
       "    <tr>\n",
       "      <td>10</td>\n",
       "      <td>country_6</td>\n",
       "      <td>8.0</td>\n",
       "      <td>534</td>\n",
       "    </tr>\n",
       "    <tr>\n",
       "      <td>12</td>\n",
       "      <td>country_7</td>\n",
       "      <td>8.0</td>\n",
       "      <td>1380</td>\n",
       "    </tr>\n",
       "    <tr>\n",
       "      <td>14</td>\n",
       "      <td>country_8</td>\n",
       "      <td>8.0</td>\n",
       "      <td>85</td>\n",
       "    </tr>\n",
       "  </tbody>\n",
       "</table>\n",
       "</div>"
      ],
      "text/plain": [
       "      country  ebook  ebook_buyers\n",
       "0   country_1    8.0            25\n",
       "2   country_2    8.0          1441\n",
       "4   country_3    8.0           112\n",
       "6   country_4    8.0          1093\n",
       "8   country_5    8.0          1970\n",
       "10  country_6    8.0           534\n",
       "12  country_7    8.0          1380\n",
       "14  country_8    8.0            85"
      ]
     },
     "execution_count": 121,
     "metadata": {},
     "output_type": "execute_result"
    }
   ],
   "source": [
    "ebook"
   ]
  },
  {
   "cell_type": "code",
   "execution_count": 122,
   "metadata": {},
   "outputs": [
    {
     "data": {
      "text/html": [
       "<div>\n",
       "<style scoped>\n",
       "    .dataframe tbody tr th:only-of-type {\n",
       "        vertical-align: middle;\n",
       "    }\n",
       "\n",
       "    .dataframe tbody tr th {\n",
       "        vertical-align: top;\n",
       "    }\n",
       "\n",
       "    .dataframe thead th {\n",
       "        text-align: right;\n",
       "    }\n",
       "</style>\n",
       "<table border=\"1\" class=\"dataframe\">\n",
       "  <thead>\n",
       "    <tr style=\"text-align: right;\">\n",
       "      <th></th>\n",
       "      <th>country</th>\n",
       "      <th>ebook</th>\n",
       "      <th>ebook_buyers</th>\n",
       "      <th>video</th>\n",
       "      <th>video_buyers</th>\n",
       "    </tr>\n",
       "  </thead>\n",
       "  <tbody>\n",
       "    <tr>\n",
       "      <td>0</td>\n",
       "      <td>country_1</td>\n",
       "      <td>8.0</td>\n",
       "      <td>25</td>\n",
       "      <td>80.0</td>\n",
       "      <td>9</td>\n",
       "    </tr>\n",
       "    <tr>\n",
       "      <td>1</td>\n",
       "      <td>country_2</td>\n",
       "      <td>8.0</td>\n",
       "      <td>1441</td>\n",
       "      <td>80.0</td>\n",
       "      <td>350</td>\n",
       "    </tr>\n",
       "    <tr>\n",
       "      <td>2</td>\n",
       "      <td>country_3</td>\n",
       "      <td>8.0</td>\n",
       "      <td>112</td>\n",
       "      <td>80.0</td>\n",
       "      <td>34</td>\n",
       "    </tr>\n",
       "    <tr>\n",
       "      <td>3</td>\n",
       "      <td>country_4</td>\n",
       "      <td>8.0</td>\n",
       "      <td>1093</td>\n",
       "      <td>80.0</td>\n",
       "      <td>309</td>\n",
       "    </tr>\n",
       "    <tr>\n",
       "      <td>4</td>\n",
       "      <td>country_5</td>\n",
       "      <td>8.0</td>\n",
       "      <td>1970</td>\n",
       "      <td>80.0</td>\n",
       "      <td>527</td>\n",
       "    </tr>\n",
       "    <tr>\n",
       "      <td>5</td>\n",
       "      <td>country_6</td>\n",
       "      <td>8.0</td>\n",
       "      <td>534</td>\n",
       "      <td>80.0</td>\n",
       "      <td>152</td>\n",
       "    </tr>\n",
       "    <tr>\n",
       "      <td>6</td>\n",
       "      <td>country_7</td>\n",
       "      <td>8.0</td>\n",
       "      <td>1380</td>\n",
       "      <td>80.0</td>\n",
       "      <td>359</td>\n",
       "    </tr>\n",
       "    <tr>\n",
       "      <td>7</td>\n",
       "      <td>country_8</td>\n",
       "      <td>8.0</td>\n",
       "      <td>85</td>\n",
       "      <td>80.0</td>\n",
       "      <td>27</td>\n",
       "    </tr>\n",
       "  </tbody>\n",
       "</table>\n",
       "</div>"
      ],
      "text/plain": [
       "     country  ebook  ebook_buyers  video  video_buyers\n",
       "0  country_1    8.0            25   80.0             9\n",
       "1  country_2    8.0          1441   80.0           350\n",
       "2  country_3    8.0           112   80.0            34\n",
       "3  country_4    8.0          1093   80.0           309\n",
       "4  country_5    8.0          1970   80.0           527\n",
       "5  country_6    8.0           534   80.0           152\n",
       "6  country_7    8.0          1380   80.0           359\n",
       "7  country_8    8.0            85   80.0            27"
      ]
     },
     "execution_count": 122,
     "metadata": {},
     "output_type": "execute_result"
    }
   ],
   "source": [
    "b1 = ebook.merge(video, on='country', how='outer')\n",
    "b1"
   ]
  },
  {
   "cell_type": "markdown",
   "metadata": {},
   "source": [
    "### USER ACTIVITY ON ALL EVENTS  BY COUNTRY"
   ]
  },
  {
   "cell_type": "code",
   "execution_count": 123,
   "metadata": {},
   "outputs": [
    {
     "data": {
      "text/html": [
       "<div>\n",
       "<style scoped>\n",
       "    .dataframe tbody tr th:only-of-type {\n",
       "        vertical-align: middle;\n",
       "    }\n",
       "\n",
       "    .dataframe tbody tr th {\n",
       "        vertical-align: top;\n",
       "    }\n",
       "\n",
       "    .dataframe thead th {\n",
       "        text-align: right;\n",
       "    }\n",
       "</style>\n",
       "<table border=\"1\" class=\"dataframe\">\n",
       "  <thead>\n",
       "    <tr style=\"text-align: right;\">\n",
       "      <th></th>\n",
       "      <th>country</th>\n",
       "      <th>first_visits</th>\n",
       "      <th>returning_visitors</th>\n",
       "      <th>nr_visits</th>\n",
       "      <th>subscribers</th>\n",
       "    </tr>\n",
       "  </thead>\n",
       "  <tbody>\n",
       "    <tr>\n",
       "      <td>0</td>\n",
       "      <td>country_1</td>\n",
       "      <td>5076</td>\n",
       "      <td>191</td>\n",
       "      <td>1155</td>\n",
       "      <td>28</td>\n",
       "    </tr>\n",
       "    <tr>\n",
       "      <td>1</td>\n",
       "      <td>country_2</td>\n",
       "      <td>50675</td>\n",
       "      <td>14269</td>\n",
       "      <td>79401</td>\n",
       "      <td>1558</td>\n",
       "    </tr>\n",
       "    <tr>\n",
       "      <td>2</td>\n",
       "      <td>country_3</td>\n",
       "      <td>2742</td>\n",
       "      <td>1082</td>\n",
       "      <td>6386</td>\n",
       "      <td>160</td>\n",
       "    </tr>\n",
       "    <tr>\n",
       "      <td>3</td>\n",
       "      <td>country_4</td>\n",
       "      <td>12751</td>\n",
       "      <td>10167</td>\n",
       "      <td>58507</td>\n",
       "      <td>1419</td>\n",
       "    </tr>\n",
       "    <tr>\n",
       "      <td>4</td>\n",
       "      <td>country_5</td>\n",
       "      <td>40349</td>\n",
       "      <td>19477</td>\n",
       "      <td>109383</td>\n",
       "      <td>2334</td>\n",
       "    </tr>\n",
       "    <tr>\n",
       "      <td>5</td>\n",
       "      <td>country_6</td>\n",
       "      <td>31156</td>\n",
       "      <td>5930</td>\n",
       "      <td>32596</td>\n",
       "      <td>546</td>\n",
       "    </tr>\n",
       "    <tr>\n",
       "      <td>6</td>\n",
       "      <td>country_7</td>\n",
       "      <td>51791</td>\n",
       "      <td>14417</td>\n",
       "      <td>80276</td>\n",
       "      <td>1470</td>\n",
       "    </tr>\n",
       "    <tr>\n",
       "      <td>7</td>\n",
       "      <td>country_8</td>\n",
       "      <td>15483</td>\n",
       "      <td>698</td>\n",
       "      <td>4150</td>\n",
       "      <td>103</td>\n",
       "    </tr>\n",
       "  </tbody>\n",
       "</table>\n",
       "</div>"
      ],
      "text/plain": [
       "     country  first_visits  returning_visitors  nr_visits  subscribers\n",
       "0  country_1          5076                 191       1155           28\n",
       "1  country_2         50675               14269      79401         1558\n",
       "2  country_3          2742                1082       6386          160\n",
       "3  country_4         12751               10167      58507         1419\n",
       "4  country_5         40349               19477     109383         2334\n",
       "5  country_6         31156                5930      32596          546\n",
       "6  country_7         51791               14417      80276         1470\n",
       "7  country_8         15483                 698       4150          103"
      ]
     },
     "execution_count": 123,
     "metadata": {},
     "output_type": "execute_result"
    }
   ],
   "source": [
    "f1 = r4.merge(sub2, on='country', how='right')\n",
    "f1"
   ]
  },
  {
   "cell_type": "code",
   "execution_count": 124,
   "metadata": {},
   "outputs": [
    {
     "data": {
      "text/html": [
       "<div>\n",
       "<style scoped>\n",
       "    .dataframe tbody tr th:only-of-type {\n",
       "        vertical-align: middle;\n",
       "    }\n",
       "\n",
       "    .dataframe tbody tr th {\n",
       "        vertical-align: top;\n",
       "    }\n",
       "\n",
       "    .dataframe thead th {\n",
       "        text-align: right;\n",
       "    }\n",
       "</style>\n",
       "<table border=\"1\" class=\"dataframe\">\n",
       "  <thead>\n",
       "    <tr style=\"text-align: right;\">\n",
       "      <th></th>\n",
       "      <th>country</th>\n",
       "      <th>first_visits</th>\n",
       "      <th>returning_visitors</th>\n",
       "      <th>nr_visits</th>\n",
       "      <th>subscribers</th>\n",
       "      <th>ebook</th>\n",
       "      <th>ebook_buyers</th>\n",
       "      <th>video</th>\n",
       "      <th>video_buyers</th>\n",
       "    </tr>\n",
       "  </thead>\n",
       "  <tbody>\n",
       "    <tr>\n",
       "      <td>0</td>\n",
       "      <td>country_1</td>\n",
       "      <td>5076</td>\n",
       "      <td>191</td>\n",
       "      <td>1155</td>\n",
       "      <td>28</td>\n",
       "      <td>8.0</td>\n",
       "      <td>25</td>\n",
       "      <td>80.0</td>\n",
       "      <td>9</td>\n",
       "    </tr>\n",
       "    <tr>\n",
       "      <td>1</td>\n",
       "      <td>country_2</td>\n",
       "      <td>50675</td>\n",
       "      <td>14269</td>\n",
       "      <td>79401</td>\n",
       "      <td>1558</td>\n",
       "      <td>8.0</td>\n",
       "      <td>1441</td>\n",
       "      <td>80.0</td>\n",
       "      <td>350</td>\n",
       "    </tr>\n",
       "    <tr>\n",
       "      <td>2</td>\n",
       "      <td>country_3</td>\n",
       "      <td>2742</td>\n",
       "      <td>1082</td>\n",
       "      <td>6386</td>\n",
       "      <td>160</td>\n",
       "      <td>8.0</td>\n",
       "      <td>112</td>\n",
       "      <td>80.0</td>\n",
       "      <td>34</td>\n",
       "    </tr>\n",
       "    <tr>\n",
       "      <td>3</td>\n",
       "      <td>country_4</td>\n",
       "      <td>12751</td>\n",
       "      <td>10167</td>\n",
       "      <td>58507</td>\n",
       "      <td>1419</td>\n",
       "      <td>8.0</td>\n",
       "      <td>1093</td>\n",
       "      <td>80.0</td>\n",
       "      <td>309</td>\n",
       "    </tr>\n",
       "    <tr>\n",
       "      <td>4</td>\n",
       "      <td>country_5</td>\n",
       "      <td>40349</td>\n",
       "      <td>19477</td>\n",
       "      <td>109383</td>\n",
       "      <td>2334</td>\n",
       "      <td>8.0</td>\n",
       "      <td>1970</td>\n",
       "      <td>80.0</td>\n",
       "      <td>527</td>\n",
       "    </tr>\n",
       "    <tr>\n",
       "      <td>5</td>\n",
       "      <td>country_6</td>\n",
       "      <td>31156</td>\n",
       "      <td>5930</td>\n",
       "      <td>32596</td>\n",
       "      <td>546</td>\n",
       "      <td>8.0</td>\n",
       "      <td>534</td>\n",
       "      <td>80.0</td>\n",
       "      <td>152</td>\n",
       "    </tr>\n",
       "    <tr>\n",
       "      <td>6</td>\n",
       "      <td>country_7</td>\n",
       "      <td>51791</td>\n",
       "      <td>14417</td>\n",
       "      <td>80276</td>\n",
       "      <td>1470</td>\n",
       "      <td>8.0</td>\n",
       "      <td>1380</td>\n",
       "      <td>80.0</td>\n",
       "      <td>359</td>\n",
       "    </tr>\n",
       "    <tr>\n",
       "      <td>7</td>\n",
       "      <td>country_8</td>\n",
       "      <td>15483</td>\n",
       "      <td>698</td>\n",
       "      <td>4150</td>\n",
       "      <td>103</td>\n",
       "      <td>8.0</td>\n",
       "      <td>85</td>\n",
       "      <td>80.0</td>\n",
       "      <td>27</td>\n",
       "    </tr>\n",
       "  </tbody>\n",
       "</table>\n",
       "</div>"
      ],
      "text/plain": [
       "     country  first_visits  returning_visitors  nr_visits  subscribers  ebook  \\\n",
       "0  country_1          5076                 191       1155           28    8.0   \n",
       "1  country_2         50675               14269      79401         1558    8.0   \n",
       "2  country_3          2742                1082       6386          160    8.0   \n",
       "3  country_4         12751               10167      58507         1419    8.0   \n",
       "4  country_5         40349               19477     109383         2334    8.0   \n",
       "5  country_6         31156                5930      32596          546    8.0   \n",
       "6  country_7         51791               14417      80276         1470    8.0   \n",
       "7  country_8         15483                 698       4150          103    8.0   \n",
       "\n",
       "   ebook_buyers  video  video_buyers  \n",
       "0            25   80.0             9  \n",
       "1          1441   80.0           350  \n",
       "2           112   80.0            34  \n",
       "3          1093   80.0           309  \n",
       "4          1970   80.0           527  \n",
       "5           534   80.0           152  \n",
       "6          1380   80.0           359  \n",
       "7            85   80.0            27  "
      ]
     },
     "execution_count": 124,
     "metadata": {},
     "output_type": "execute_result"
    }
   ],
   "source": [
    "f2=f1.merge(b1, on='country', how='outer')\n",
    "f2"
   ]
  },
  {
   "cell_type": "markdown",
   "metadata": {},
   "source": [
    "### FUNNEL ANALYSIS BY SOURCE"
   ]
  },
  {
   "cell_type": "code",
   "execution_count": 125,
   "metadata": {},
   "outputs": [
    {
     "data": {
      "text/plain": [
       "Reddit     105216\n",
       "AdWords     63065\n",
       "SEO         41742\n",
       "Name: source, dtype: int64"
      ]
     },
     "execution_count": 125,
     "metadata": {},
     "output_type": "execute_result"
    }
   ],
   "source": [
    "read_first.source.value_counts()  # source and first visits"
   ]
  },
  {
   "cell_type": "code",
   "execution_count": 126,
   "metadata": {},
   "outputs": [
    {
     "data": {
      "text/plain": [
       "Reddit     3903\n",
       "SEO        3233\n",
       "AdWords    1271\n",
       "Name: source, dtype: int64"
      ]
     },
     "execution_count": 126,
     "metadata": {},
     "output_type": "execute_result"
    }
   ],
   "source": [
    "rbuy.source.value_counts() # source and number of buyers"
   ]
  },
  {
   "cell_type": "code",
   "execution_count": 127,
   "metadata": {},
   "outputs": [
    {
     "data": {
      "text/plain": [
       "source   products\n",
       "AdWords  8.0         1028\n",
       "         80.0         243\n",
       "Reddit   8.0         3090\n",
       "         80.0         813\n",
       "SEO      8.0         2522\n",
       "         80.0         711\n",
       "Name: user_id, dtype: int64"
      ]
     },
     "execution_count": 127,
     "metadata": {},
     "output_type": "execute_result"
    }
   ],
   "source": [
    "rbuy.groupby(['source', 'products']).count()['user_id'] # source and products"
   ]
  },
  {
   "cell_type": "code",
   "execution_count": 128,
   "metadata": {},
   "outputs": [
    {
     "data": {
      "text/plain": [
       "Reddit     31167\n",
       "SEO        24604\n",
       "AdWords    10460\n",
       "Name: source, dtype: int64"
      ]
     },
     "execution_count": 128,
     "metadata": {},
     "output_type": "execute_result"
    }
   ],
   "source": [
    "rrdt.source.value_counts()  # source and nr. of returning unique visitors"
   ]
  },
  {
   "cell_type": "code",
   "execution_count": 129,
   "metadata": {},
   "outputs": [
    {
     "data": {
      "text/plain": [
       "Reddit     173160\n",
       "SEO        140161\n",
       "AdWords     58533\n",
       "Name: source, dtype: int64"
      ]
     },
     "execution_count": 129,
     "metadata": {},
     "output_type": "execute_result"
    }
   ],
   "source": [
    "r5.source.value_counts() # number of visits by source"
   ]
  },
  {
   "cell_type": "code",
   "execution_count": 130,
   "metadata": {},
   "outputs": [
    {
     "data": {
      "text/plain": [
       "Reddit     3443\n",
       "SEO        3103\n",
       "AdWords    1072\n",
       "Name: source, dtype: int64"
      ]
     },
     "execution_count": 130,
     "metadata": {},
     "output_type": "execute_result"
    }
   ],
   "source": [
    "rsubs.source.value_counts() # source and subscribers"
   ]
  },
  {
   "cell_type": "code",
   "execution_count": 131,
   "metadata": {},
   "outputs": [
    {
     "data": {
      "text/plain": [
       "2.458315e+09    2\n",
       "2.458289e+09    2\n",
       "2.458330e+09    2\n",
       "2.458322e+09    2\n",
       "2.458209e+09    2\n",
       "               ..\n",
       "2.458338e+09    1\n",
       "2.458310e+09    1\n",
       "2.458297e+09    1\n",
       "2.458233e+09    1\n",
       "2.458226e+09    1\n",
       "Name: user_id, Length: 6648, dtype: int64"
      ]
     },
     "execution_count": 131,
     "metadata": {},
     "output_type": "execute_result"
    }
   ],
   "source": [
    "unique_buyers = buy.user_id.value_counts()\n",
    "unique_buyers"
   ]
  },
  {
   "cell_type": "code",
   "execution_count": 132,
   "metadata": {},
   "outputs": [],
   "source": [
    "unique_buyers = unique_buyers.to_frame()\n",
    "unique_buyers.reset_index(inplace=True)"
   ]
  },
  {
   "cell_type": "code",
   "execution_count": 133,
   "metadata": {},
   "outputs": [
    {
     "data": {
      "text/html": [
       "<div>\n",
       "<style scoped>\n",
       "    .dataframe tbody tr th:only-of-type {\n",
       "        vertical-align: middle;\n",
       "    }\n",
       "\n",
       "    .dataframe tbody tr th {\n",
       "        vertical-align: top;\n",
       "    }\n",
       "\n",
       "    .dataframe thead th {\n",
       "        text-align: right;\n",
       "    }\n",
       "</style>\n",
       "<table border=\"1\" class=\"dataframe\">\n",
       "  <thead>\n",
       "    <tr style=\"text-align: right;\">\n",
       "      <th></th>\n",
       "      <th>index</th>\n",
       "      <th>user_id</th>\n",
       "    </tr>\n",
       "  </thead>\n",
       "  <tbody>\n",
       "    <tr>\n",
       "      <td>0</td>\n",
       "      <td>2.458315e+09</td>\n",
       "      <td>2</td>\n",
       "    </tr>\n",
       "    <tr>\n",
       "      <td>1</td>\n",
       "      <td>2.458289e+09</td>\n",
       "      <td>2</td>\n",
       "    </tr>\n",
       "    <tr>\n",
       "      <td>2</td>\n",
       "      <td>2.458330e+09</td>\n",
       "      <td>2</td>\n",
       "    </tr>\n",
       "    <tr>\n",
       "      <td>3</td>\n",
       "      <td>2.458322e+09</td>\n",
       "      <td>2</td>\n",
       "    </tr>\n",
       "    <tr>\n",
       "      <td>4</td>\n",
       "      <td>2.458209e+09</td>\n",
       "      <td>2</td>\n",
       "    </tr>\n",
       "  </tbody>\n",
       "</table>\n",
       "</div>"
      ],
      "text/plain": [
       "          index  user_id\n",
       "0  2.458315e+09        2\n",
       "1  2.458289e+09        2\n",
       "2  2.458330e+09        2\n",
       "3  2.458322e+09        2\n",
       "4  2.458209e+09        2"
      ]
     },
     "execution_count": 133,
     "metadata": {},
     "output_type": "execute_result"
    }
   ],
   "source": [
    "unique_buyers.head()"
   ]
  },
  {
   "cell_type": "code",
   "execution_count": 134,
   "metadata": {},
   "outputs": [],
   "source": [
    "unique_buyers.rename({'index' : 'user_id', 'user_id':'number'}, axis=1, inplace=True)"
   ]
  },
  {
   "cell_type": "code",
   "execution_count": 135,
   "metadata": {},
   "outputs": [
    {
     "data": {
      "text/plain": [
       "(6648, 2)"
      ]
     },
     "execution_count": 135,
     "metadata": {},
     "output_type": "execute_result"
    }
   ],
   "source": [
    "unique_buyers.shape"
   ]
  },
  {
   "cell_type": "code",
   "execution_count": 136,
   "metadata": {},
   "outputs": [
    {
     "data": {
      "text/html": [
       "<div>\n",
       "<style scoped>\n",
       "    .dataframe tbody tr th:only-of-type {\n",
       "        vertical-align: middle;\n",
       "    }\n",
       "\n",
       "    .dataframe tbody tr th {\n",
       "        vertical-align: top;\n",
       "    }\n",
       "\n",
       "    .dataframe thead th {\n",
       "        text-align: right;\n",
       "    }\n",
       "</style>\n",
       "<table border=\"1\" class=\"dataframe\">\n",
       "  <thead>\n",
       "    <tr style=\"text-align: right;\">\n",
       "      <th></th>\n",
       "      <th>my_date</th>\n",
       "      <th>event</th>\n",
       "      <th>country</th>\n",
       "      <th>user_id</th>\n",
       "      <th>source</th>\n",
       "      <th>topic</th>\n",
       "      <th>number</th>\n",
       "    </tr>\n",
       "  </thead>\n",
       "  <tbody>\n",
       "    <tr>\n",
       "      <td>0</td>\n",
       "      <td>2018-01-01 00:13:39</td>\n",
       "      <td>read</td>\n",
       "      <td>country_4</td>\n",
       "      <td>2.458151e+09</td>\n",
       "      <td>SEO</td>\n",
       "      <td>North America</td>\n",
       "      <td>2</td>\n",
       "    </tr>\n",
       "    <tr>\n",
       "      <td>1</td>\n",
       "      <td>2018-01-01 00:56:27</td>\n",
       "      <td>read</td>\n",
       "      <td>country_6</td>\n",
       "      <td>2.458151e+09</td>\n",
       "      <td>SEO</td>\n",
       "      <td>Asia</td>\n",
       "      <td>1</td>\n",
       "    </tr>\n",
       "    <tr>\n",
       "      <td>2</td>\n",
       "      <td>2018-01-01 01:19:01</td>\n",
       "      <td>read</td>\n",
       "      <td>country_5</td>\n",
       "      <td>2.458151e+09</td>\n",
       "      <td>Reddit</td>\n",
       "      <td>Asia</td>\n",
       "      <td>1</td>\n",
       "    </tr>\n",
       "    <tr>\n",
       "      <td>3</td>\n",
       "      <td>2018-01-01 01:32:38</td>\n",
       "      <td>read</td>\n",
       "      <td>country_5</td>\n",
       "      <td>2.458151e+09</td>\n",
       "      <td>Reddit</td>\n",
       "      <td>Asia</td>\n",
       "      <td>1</td>\n",
       "    </tr>\n",
       "    <tr>\n",
       "      <td>4</td>\n",
       "      <td>2018-01-01 01:35:40</td>\n",
       "      <td>read</td>\n",
       "      <td>country_5</td>\n",
       "      <td>2.458151e+09</td>\n",
       "      <td>SEO</td>\n",
       "      <td>North America</td>\n",
       "      <td>1</td>\n",
       "    </tr>\n",
       "  </tbody>\n",
       "</table>\n",
       "</div>"
      ],
      "text/plain": [
       "               my_date event    country       user_id  source          topic  \\\n",
       "0  2018-01-01 00:13:39  read  country_4  2.458151e+09     SEO  North America   \n",
       "1  2018-01-01 00:56:27  read  country_6  2.458151e+09     SEO           Asia   \n",
       "2  2018-01-01 01:19:01  read  country_5  2.458151e+09  Reddit           Asia   \n",
       "3  2018-01-01 01:32:38  read  country_5  2.458151e+09  Reddit           Asia   \n",
       "4  2018-01-01 01:35:40  read  country_5  2.458151e+09     SEO  North America   \n",
       "\n",
       "   number  \n",
       "0       2  \n",
       "1       1  \n",
       "2       1  \n",
       "3       1  \n",
       "4       1  "
      ]
     },
     "execution_count": 136,
     "metadata": {},
     "output_type": "execute_result"
    }
   ],
   "source": [
    "ubuy = read_first.merge(unique_buyers, on='user_id', how='right')\n",
    "ubuy.head()"
   ]
  },
  {
   "cell_type": "code",
   "execution_count": 137,
   "metadata": {},
   "outputs": [
    {
     "data": {
      "text/plain": [
       "Reddit     3094\n",
       "SEO        2525\n",
       "AdWords    1029\n",
       "Name: source, dtype: int64"
      ]
     },
     "execution_count": 137,
     "metadata": {},
     "output_type": "execute_result"
    }
   ],
   "source": [
    "ubuy.source.value_counts()  # source and number of unique buyers"
   ]
  },
  {
   "cell_type": "markdown",
   "metadata": {},
   "source": [
    "#### On Google Sheets I made a tabel and chart with user activity by source"
   ]
  },
  {
   "cell_type": "markdown",
   "metadata": {},
   "source": [
    "### ANALYZING DATE OF THE WEEK FOR RETURNING USERS AND BUYERS"
   ]
  },
  {
   "cell_type": "code",
   "execution_count": 138,
   "metadata": {},
   "outputs": [],
   "source": [
    "returning_readers.my_date = pd.to_datetime(returning_readers.my_date)"
   ]
  },
  {
   "cell_type": "code",
   "execution_count": 139,
   "metadata": {},
   "outputs": [
    {
     "data": {
      "text/plain": [
       "3    208835\n",
       "2    124724\n",
       "1     38295\n",
       "Name: my_date, dtype: int64"
      ]
     },
     "execution_count": 139,
     "metadata": {},
     "output_type": "execute_result"
    }
   ],
   "source": [
    "returning_readers.my_date.dt.month.value_counts()"
   ]
  },
  {
   "cell_type": "code",
   "execution_count": 140,
   "metadata": {},
   "outputs": [
    {
     "data": {
      "text/plain": [
       "6     17494\n",
       "5     17303\n",
       "7     17277\n",
       "8     16873\n",
       "4     16833\n",
       "9     16653\n",
       "10    16538\n",
       "3     16413\n",
       "11    16122\n",
       "12    15657\n",
       "2     15611\n",
       "1     15277\n",
       "13    15234\n",
       "15    14908\n",
       "16    14711\n",
       "14    14697\n",
       "20    14425\n",
       "17    14385\n",
       "0     14380\n",
       "18    14365\n",
       "22    14215\n",
       "23    14166\n",
       "19    14161\n",
       "21    14156\n",
       "Name: my_date, dtype: int64"
      ]
     },
     "execution_count": 140,
     "metadata": {},
     "output_type": "execute_result"
    }
   ],
   "source": [
    "returning_readers.my_date.dt.hour.value_counts()"
   ]
  },
  {
   "cell_type": "code",
   "execution_count": 141,
   "metadata": {},
   "outputs": [
    {
     "data": {
      "text/plain": [
       "Thursday     58087\n",
       "Friday       56673\n",
       "Saturday     53769\n",
       "Tuesday      53218\n",
       "Wednesday    51733\n",
       "Sunday       51527\n",
       "Monday       46847\n",
       "Name: my_date, dtype: int64"
      ]
     },
     "execution_count": 141,
     "metadata": {},
     "output_type": "execute_result"
    }
   ],
   "source": [
    "returning_readers.my_date.dt.weekday_name.value_counts()"
   ]
  },
  {
   "cell_type": "code",
   "execution_count": 142,
   "metadata": {},
   "outputs": [],
   "source": [
    "buy.my_date = pd.to_datetime(buy.my_date)"
   ]
  },
  {
   "cell_type": "code",
   "execution_count": 143,
   "metadata": {},
   "outputs": [
    {
     "data": {
      "text/plain": [
       "3    4895\n",
       "2    2564\n",
       "1     948\n",
       "Name: my_date, dtype: int64"
      ]
     },
     "execution_count": 143,
     "metadata": {},
     "output_type": "execute_result"
    }
   ],
   "source": [
    "buy.my_date.dt.month.value_counts()"
   ]
  },
  {
   "cell_type": "code",
   "execution_count": 144,
   "metadata": {},
   "outputs": [
    {
     "data": {
      "text/plain": [
       "4     409\n",
       "8     374\n",
       "12    371\n",
       "5     368\n",
       "18    367\n",
       "16    366\n",
       "7     365\n",
       "22    365\n",
       "9     365\n",
       "21    361\n",
       "20    357\n",
       "6     353\n",
       "3     353\n",
       "1     352\n",
       "13    344\n",
       "0     343\n",
       "10    337\n",
       "19    333\n",
       "15    328\n",
       "14    328\n",
       "23    321\n",
       "17    320\n",
       "11    315\n",
       "2     312\n",
       "Name: my_date, dtype: int64"
      ]
     },
     "execution_count": 144,
     "metadata": {},
     "output_type": "execute_result"
    }
   ],
   "source": [
    "buy.my_date.dt.hour.value_counts()"
   ]
  },
  {
   "cell_type": "code",
   "execution_count": 145,
   "metadata": {},
   "outputs": [
    {
     "data": {
      "text/plain": [
       "Monday       1302\n",
       "Friday       1297\n",
       "Sunday       1289\n",
       "Tuesday      1273\n",
       "Thursday     1188\n",
       "Saturday     1103\n",
       "Wednesday     955\n",
       "Name: my_date, dtype: int64"
      ]
     },
     "execution_count": 145,
     "metadata": {},
     "output_type": "execute_result"
    }
   ],
   "source": [
    "buy.my_date.dt.weekday_name.value_counts()"
   ]
  },
  {
   "cell_type": "code",
   "execution_count": 146,
   "metadata": {},
   "outputs": [],
   "source": [
    "buy2 = buy.copy()"
   ]
  },
  {
   "cell_type": "code",
   "execution_count": 147,
   "metadata": {},
   "outputs": [],
   "source": [
    "buy2['date'] = pd.to_datetime(buy2['my_date']).dt.date\n",
    "buy2['time'] = pd.to_datetime(buy2['my_date']).dt.time"
   ]
  },
  {
   "cell_type": "code",
   "execution_count": 148,
   "metadata": {},
   "outputs": [],
   "source": [
    "buy2.date = pd.to_datetime(buy2.date)"
   ]
  },
  {
   "cell_type": "code",
   "execution_count": 149,
   "metadata": {},
   "outputs": [],
   "source": [
    "buy2.time = pd.to_datetime(buy2.time, format='%H:%M:%S').dt.time"
   ]
  },
  {
   "cell_type": "code",
   "execution_count": 150,
   "metadata": {},
   "outputs": [
    {
     "data": {
      "text/html": [
       "<div>\n",
       "<style scoped>\n",
       "    .dataframe tbody tr th:only-of-type {\n",
       "        vertical-align: middle;\n",
       "    }\n",
       "\n",
       "    .dataframe tbody tr th {\n",
       "        vertical-align: top;\n",
       "    }\n",
       "\n",
       "    .dataframe thead th {\n",
       "        text-align: right;\n",
       "    }\n",
       "</style>\n",
       "<table border=\"1\" class=\"dataframe\">\n",
       "  <thead>\n",
       "    <tr style=\"text-align: right;\">\n",
       "      <th></th>\n",
       "      <th>my_date</th>\n",
       "      <th>event</th>\n",
       "      <th>user_id</th>\n",
       "      <th>products</th>\n",
       "      <th>date</th>\n",
       "      <th>time</th>\n",
       "    </tr>\n",
       "  </thead>\n",
       "  <tbody>\n",
       "    <tr>\n",
       "      <td>297603</td>\n",
       "      <td>2018-03-01 00:00:32</td>\n",
       "      <td>buy</td>\n",
       "      <td>2.458248e+09</td>\n",
       "      <td>80.0</td>\n",
       "      <td>2018-03-01</td>\n",
       "      <td>00:00:32</td>\n",
       "    </tr>\n",
       "    <tr>\n",
       "      <td>297690</td>\n",
       "      <td>2018-03-01 00:13:48</td>\n",
       "      <td>buy</td>\n",
       "      <td>2.458271e+09</td>\n",
       "      <td>8.0</td>\n",
       "      <td>2018-03-01</td>\n",
       "      <td>00:13:48</td>\n",
       "    </tr>\n",
       "    <tr>\n",
       "      <td>297694</td>\n",
       "      <td>2018-03-01 00:14:26</td>\n",
       "      <td>buy</td>\n",
       "      <td>2.458266e+09</td>\n",
       "      <td>8.0</td>\n",
       "      <td>2018-03-01</td>\n",
       "      <td>00:14:26</td>\n",
       "    </tr>\n",
       "    <tr>\n",
       "      <td>297759</td>\n",
       "      <td>2018-03-01 00:23:48</td>\n",
       "      <td>buy</td>\n",
       "      <td>2.458219e+09</td>\n",
       "      <td>8.0</td>\n",
       "      <td>2018-03-01</td>\n",
       "      <td>00:23:48</td>\n",
       "    </tr>\n",
       "    <tr>\n",
       "      <td>297791</td>\n",
       "      <td>2018-03-01 00:27:56</td>\n",
       "      <td>buy</td>\n",
       "      <td>2.458220e+09</td>\n",
       "      <td>80.0</td>\n",
       "      <td>2018-03-01</td>\n",
       "      <td>00:27:56</td>\n",
       "    </tr>\n",
       "  </tbody>\n",
       "</table>\n",
       "</div>"
      ],
      "text/plain": [
       "                   my_date event       user_id  products       date      time\n",
       "297603 2018-03-01 00:00:32   buy  2.458248e+09      80.0 2018-03-01  00:00:32\n",
       "297690 2018-03-01 00:13:48   buy  2.458271e+09       8.0 2018-03-01  00:13:48\n",
       "297694 2018-03-01 00:14:26   buy  2.458266e+09       8.0 2018-03-01  00:14:26\n",
       "297759 2018-03-01 00:23:48   buy  2.458219e+09       8.0 2018-03-01  00:23:48\n",
       "297791 2018-03-01 00:27:56   buy  2.458220e+09      80.0 2018-03-01  00:27:56"
      ]
     },
     "execution_count": 150,
     "metadata": {},
     "output_type": "execute_result"
    }
   ],
   "source": [
    "march = buy2[buy2.date > '2018-02-28']\n",
    "march.head()"
   ]
  },
  {
   "cell_type": "code",
   "execution_count": 152,
   "metadata": {},
   "outputs": [
    {
     "data": {
      "text/html": [
       "<div>\n",
       "<style scoped>\n",
       "    .dataframe tbody tr th:only-of-type {\n",
       "        vertical-align: middle;\n",
       "    }\n",
       "\n",
       "    .dataframe tbody tr th {\n",
       "        vertical-align: top;\n",
       "    }\n",
       "\n",
       "    .dataframe thead th {\n",
       "        text-align: right;\n",
       "    }\n",
       "</style>\n",
       "<table border=\"1\" class=\"dataframe\">\n",
       "  <thead>\n",
       "    <tr style=\"text-align: right;\">\n",
       "      <th></th>\n",
       "      <th>date</th>\n",
       "      <th>products</th>\n",
       "      <th>buyers</th>\n",
       "    </tr>\n",
       "  </thead>\n",
       "  <tbody>\n",
       "    <tr>\n",
       "      <td>0</td>\n",
       "      <td>2018-03-01</td>\n",
       "      <td>8.0</td>\n",
       "      <td>112</td>\n",
       "    </tr>\n",
       "    <tr>\n",
       "      <td>1</td>\n",
       "      <td>2018-03-01</td>\n",
       "      <td>80.0</td>\n",
       "      <td>25</td>\n",
       "    </tr>\n",
       "    <tr>\n",
       "      <td>2</td>\n",
       "      <td>2018-03-02</td>\n",
       "      <td>8.0</td>\n",
       "      <td>197</td>\n",
       "    </tr>\n",
       "    <tr>\n",
       "      <td>3</td>\n",
       "      <td>2018-03-02</td>\n",
       "      <td>80.0</td>\n",
       "      <td>24</td>\n",
       "    </tr>\n",
       "    <tr>\n",
       "      <td>4</td>\n",
       "      <td>2018-03-03</td>\n",
       "      <td>8.0</td>\n",
       "      <td>66</td>\n",
       "    </tr>\n",
       "    <tr>\n",
       "      <td>5</td>\n",
       "      <td>2018-03-03</td>\n",
       "      <td>80.0</td>\n",
       "      <td>47</td>\n",
       "    </tr>\n",
       "    <tr>\n",
       "      <td>6</td>\n",
       "      <td>2018-03-04</td>\n",
       "      <td>8.0</td>\n",
       "      <td>204</td>\n",
       "    </tr>\n",
       "    <tr>\n",
       "      <td>7</td>\n",
       "      <td>2018-03-04</td>\n",
       "      <td>80.0</td>\n",
       "      <td>40</td>\n",
       "    </tr>\n",
       "    <tr>\n",
       "      <td>8</td>\n",
       "      <td>2018-03-05</td>\n",
       "      <td>8.0</td>\n",
       "      <td>134</td>\n",
       "    </tr>\n",
       "    <tr>\n",
       "      <td>9</td>\n",
       "      <td>2018-03-05</td>\n",
       "      <td>80.0</td>\n",
       "      <td>51</td>\n",
       "    </tr>\n",
       "    <tr>\n",
       "      <td>10</td>\n",
       "      <td>2018-03-06</td>\n",
       "      <td>8.0</td>\n",
       "      <td>102</td>\n",
       "    </tr>\n",
       "    <tr>\n",
       "      <td>11</td>\n",
       "      <td>2018-03-06</td>\n",
       "      <td>80.0</td>\n",
       "      <td>33</td>\n",
       "    </tr>\n",
       "    <tr>\n",
       "      <td>12</td>\n",
       "      <td>2018-03-07</td>\n",
       "      <td>8.0</td>\n",
       "      <td>139</td>\n",
       "    </tr>\n",
       "    <tr>\n",
       "      <td>13</td>\n",
       "      <td>2018-03-07</td>\n",
       "      <td>80.0</td>\n",
       "      <td>28</td>\n",
       "    </tr>\n",
       "    <tr>\n",
       "      <td>14</td>\n",
       "      <td>2018-03-08</td>\n",
       "      <td>8.0</td>\n",
       "      <td>153</td>\n",
       "    </tr>\n",
       "    <tr>\n",
       "      <td>15</td>\n",
       "      <td>2018-03-08</td>\n",
       "      <td>80.0</td>\n",
       "      <td>16</td>\n",
       "    </tr>\n",
       "    <tr>\n",
       "      <td>16</td>\n",
       "      <td>2018-03-09</td>\n",
       "      <td>8.0</td>\n",
       "      <td>120</td>\n",
       "    </tr>\n",
       "    <tr>\n",
       "      <td>17</td>\n",
       "      <td>2018-03-09</td>\n",
       "      <td>80.0</td>\n",
       "      <td>23</td>\n",
       "    </tr>\n",
       "    <tr>\n",
       "      <td>18</td>\n",
       "      <td>2018-03-10</td>\n",
       "      <td>8.0</td>\n",
       "      <td>42</td>\n",
       "    </tr>\n",
       "    <tr>\n",
       "      <td>19</td>\n",
       "      <td>2018-03-10</td>\n",
       "      <td>80.0</td>\n",
       "      <td>17</td>\n",
       "    </tr>\n",
       "    <tr>\n",
       "      <td>20</td>\n",
       "      <td>2018-03-11</td>\n",
       "      <td>8.0</td>\n",
       "      <td>50</td>\n",
       "    </tr>\n",
       "    <tr>\n",
       "      <td>21</td>\n",
       "      <td>2018-03-11</td>\n",
       "      <td>80.0</td>\n",
       "      <td>48</td>\n",
       "    </tr>\n",
       "    <tr>\n",
       "      <td>22</td>\n",
       "      <td>2018-03-12</td>\n",
       "      <td>8.0</td>\n",
       "      <td>202</td>\n",
       "    </tr>\n",
       "    <tr>\n",
       "      <td>23</td>\n",
       "      <td>2018-03-12</td>\n",
       "      <td>80.0</td>\n",
       "      <td>49</td>\n",
       "    </tr>\n",
       "    <tr>\n",
       "      <td>24</td>\n",
       "      <td>2018-03-13</td>\n",
       "      <td>8.0</td>\n",
       "      <td>96</td>\n",
       "    </tr>\n",
       "    <tr>\n",
       "      <td>25</td>\n",
       "      <td>2018-03-13</td>\n",
       "      <td>80.0</td>\n",
       "      <td>6</td>\n",
       "    </tr>\n",
       "    <tr>\n",
       "      <td>26</td>\n",
       "      <td>2018-03-14</td>\n",
       "      <td>8.0</td>\n",
       "      <td>74</td>\n",
       "    </tr>\n",
       "    <tr>\n",
       "      <td>27</td>\n",
       "      <td>2018-03-14</td>\n",
       "      <td>80.0</td>\n",
       "      <td>16</td>\n",
       "    </tr>\n",
       "    <tr>\n",
       "      <td>28</td>\n",
       "      <td>2018-03-15</td>\n",
       "      <td>8.0</td>\n",
       "      <td>66</td>\n",
       "    </tr>\n",
       "    <tr>\n",
       "      <td>29</td>\n",
       "      <td>2018-03-15</td>\n",
       "      <td>80.0</td>\n",
       "      <td>31</td>\n",
       "    </tr>\n",
       "    <tr>\n",
       "      <td>30</td>\n",
       "      <td>2018-03-16</td>\n",
       "      <td>8.0</td>\n",
       "      <td>88</td>\n",
       "    </tr>\n",
       "    <tr>\n",
       "      <td>31</td>\n",
       "      <td>2018-03-16</td>\n",
       "      <td>80.0</td>\n",
       "      <td>17</td>\n",
       "    </tr>\n",
       "    <tr>\n",
       "      <td>32</td>\n",
       "      <td>2018-03-17</td>\n",
       "      <td>8.0</td>\n",
       "      <td>185</td>\n",
       "    </tr>\n",
       "    <tr>\n",
       "      <td>33</td>\n",
       "      <td>2018-03-17</td>\n",
       "      <td>80.0</td>\n",
       "      <td>27</td>\n",
       "    </tr>\n",
       "    <tr>\n",
       "      <td>34</td>\n",
       "      <td>2018-03-18</td>\n",
       "      <td>8.0</td>\n",
       "      <td>174</td>\n",
       "    </tr>\n",
       "    <tr>\n",
       "      <td>35</td>\n",
       "      <td>2018-03-18</td>\n",
       "      <td>80.0</td>\n",
       "      <td>40</td>\n",
       "    </tr>\n",
       "    <tr>\n",
       "      <td>36</td>\n",
       "      <td>2018-03-19</td>\n",
       "      <td>8.0</td>\n",
       "      <td>121</td>\n",
       "    </tr>\n",
       "    <tr>\n",
       "      <td>37</td>\n",
       "      <td>2018-03-19</td>\n",
       "      <td>80.0</td>\n",
       "      <td>22</td>\n",
       "    </tr>\n",
       "    <tr>\n",
       "      <td>38</td>\n",
       "      <td>2018-03-20</td>\n",
       "      <td>8.0</td>\n",
       "      <td>102</td>\n",
       "    </tr>\n",
       "    <tr>\n",
       "      <td>39</td>\n",
       "      <td>2018-03-20</td>\n",
       "      <td>80.0</td>\n",
       "      <td>18</td>\n",
       "    </tr>\n",
       "    <tr>\n",
       "      <td>40</td>\n",
       "      <td>2018-03-21</td>\n",
       "      <td>8.0</td>\n",
       "      <td>37</td>\n",
       "    </tr>\n",
       "    <tr>\n",
       "      <td>41</td>\n",
       "      <td>2018-03-21</td>\n",
       "      <td>80.0</td>\n",
       "      <td>16</td>\n",
       "    </tr>\n",
       "    <tr>\n",
       "      <td>42</td>\n",
       "      <td>2018-03-22</td>\n",
       "      <td>8.0</td>\n",
       "      <td>90</td>\n",
       "    </tr>\n",
       "    <tr>\n",
       "      <td>43</td>\n",
       "      <td>2018-03-22</td>\n",
       "      <td>80.0</td>\n",
       "      <td>19</td>\n",
       "    </tr>\n",
       "    <tr>\n",
       "      <td>44</td>\n",
       "      <td>2018-03-23</td>\n",
       "      <td>8.0</td>\n",
       "      <td>268</td>\n",
       "    </tr>\n",
       "    <tr>\n",
       "      <td>45</td>\n",
       "      <td>2018-03-23</td>\n",
       "      <td>80.0</td>\n",
       "      <td>66</td>\n",
       "    </tr>\n",
       "    <tr>\n",
       "      <td>46</td>\n",
       "      <td>2018-03-24</td>\n",
       "      <td>8.0</td>\n",
       "      <td>254</td>\n",
       "    </tr>\n",
       "    <tr>\n",
       "      <td>47</td>\n",
       "      <td>2018-03-24</td>\n",
       "      <td>80.0</td>\n",
       "      <td>46</td>\n",
       "    </tr>\n",
       "    <tr>\n",
       "      <td>48</td>\n",
       "      <td>2018-03-25</td>\n",
       "      <td>8.0</td>\n",
       "      <td>145</td>\n",
       "    </tr>\n",
       "    <tr>\n",
       "      <td>49</td>\n",
       "      <td>2018-03-25</td>\n",
       "      <td>80.0</td>\n",
       "      <td>64</td>\n",
       "    </tr>\n",
       "    <tr>\n",
       "      <td>50</td>\n",
       "      <td>2018-03-26</td>\n",
       "      <td>8.0</td>\n",
       "      <td>171</td>\n",
       "    </tr>\n",
       "    <tr>\n",
       "      <td>51</td>\n",
       "      <td>2018-03-26</td>\n",
       "      <td>80.0</td>\n",
       "      <td>18</td>\n",
       "    </tr>\n",
       "    <tr>\n",
       "      <td>52</td>\n",
       "      <td>2018-03-27</td>\n",
       "      <td>8.0</td>\n",
       "      <td>202</td>\n",
       "    </tr>\n",
       "    <tr>\n",
       "      <td>53</td>\n",
       "      <td>2018-03-27</td>\n",
       "      <td>80.0</td>\n",
       "      <td>68</td>\n",
       "    </tr>\n",
       "    <tr>\n",
       "      <td>54</td>\n",
       "      <td>2018-03-28</td>\n",
       "      <td>8.0</td>\n",
       "      <td>175</td>\n",
       "    </tr>\n",
       "    <tr>\n",
       "      <td>55</td>\n",
       "      <td>2018-03-28</td>\n",
       "      <td>80.0</td>\n",
       "      <td>51</td>\n",
       "    </tr>\n",
       "    <tr>\n",
       "      <td>56</td>\n",
       "      <td>2018-03-29</td>\n",
       "      <td>8.0</td>\n",
       "      <td>129</td>\n",
       "    </tr>\n",
       "    <tr>\n",
       "      <td>57</td>\n",
       "      <td>2018-03-29</td>\n",
       "      <td>80.0</td>\n",
       "      <td>34</td>\n",
       "    </tr>\n",
       "    <tr>\n",
       "      <td>58</td>\n",
       "      <td>2018-03-30</td>\n",
       "      <td>8.0</td>\n",
       "      <td>26</td>\n",
       "    </tr>\n",
       "    <tr>\n",
       "      <td>59</td>\n",
       "      <td>2018-03-30</td>\n",
       "      <td>80.0</td>\n",
       "      <td>11</td>\n",
       "    </tr>\n",
       "  </tbody>\n",
       "</table>\n",
       "</div>"
      ],
      "text/plain": [
       "         date  products  buyers\n",
       "0  2018-03-01       8.0     112\n",
       "1  2018-03-01      80.0      25\n",
       "2  2018-03-02       8.0     197\n",
       "3  2018-03-02      80.0      24\n",
       "4  2018-03-03       8.0      66\n",
       "5  2018-03-03      80.0      47\n",
       "6  2018-03-04       8.0     204\n",
       "7  2018-03-04      80.0      40\n",
       "8  2018-03-05       8.0     134\n",
       "9  2018-03-05      80.0      51\n",
       "10 2018-03-06       8.0     102\n",
       "11 2018-03-06      80.0      33\n",
       "12 2018-03-07       8.0     139\n",
       "13 2018-03-07      80.0      28\n",
       "14 2018-03-08       8.0     153\n",
       "15 2018-03-08      80.0      16\n",
       "16 2018-03-09       8.0     120\n",
       "17 2018-03-09      80.0      23\n",
       "18 2018-03-10       8.0      42\n",
       "19 2018-03-10      80.0      17\n",
       "20 2018-03-11       8.0      50\n",
       "21 2018-03-11      80.0      48\n",
       "22 2018-03-12       8.0     202\n",
       "23 2018-03-12      80.0      49\n",
       "24 2018-03-13       8.0      96\n",
       "25 2018-03-13      80.0       6\n",
       "26 2018-03-14       8.0      74\n",
       "27 2018-03-14      80.0      16\n",
       "28 2018-03-15       8.0      66\n",
       "29 2018-03-15      80.0      31\n",
       "30 2018-03-16       8.0      88\n",
       "31 2018-03-16      80.0      17\n",
       "32 2018-03-17       8.0     185\n",
       "33 2018-03-17      80.0      27\n",
       "34 2018-03-18       8.0     174\n",
       "35 2018-03-18      80.0      40\n",
       "36 2018-03-19       8.0     121\n",
       "37 2018-03-19      80.0      22\n",
       "38 2018-03-20       8.0     102\n",
       "39 2018-03-20      80.0      18\n",
       "40 2018-03-21       8.0      37\n",
       "41 2018-03-21      80.0      16\n",
       "42 2018-03-22       8.0      90\n",
       "43 2018-03-22      80.0      19\n",
       "44 2018-03-23       8.0     268\n",
       "45 2018-03-23      80.0      66\n",
       "46 2018-03-24       8.0     254\n",
       "47 2018-03-24      80.0      46\n",
       "48 2018-03-25       8.0     145\n",
       "49 2018-03-25      80.0      64\n",
       "50 2018-03-26       8.0     171\n",
       "51 2018-03-26      80.0      18\n",
       "52 2018-03-27       8.0     202\n",
       "53 2018-03-27      80.0      68\n",
       "54 2018-03-28       8.0     175\n",
       "55 2018-03-28      80.0      51\n",
       "56 2018-03-29       8.0     129\n",
       "57 2018-03-29      80.0      34\n",
       "58 2018-03-30       8.0      26\n",
       "59 2018-03-30      80.0      11"
      ]
     },
     "execution_count": 152,
     "metadata": {},
     "output_type": "execute_result"
    }
   ],
   "source": [
    "m1 = march.groupby(['date', 'products']).count()['user_id']\n",
    "m1 = m1.to_frame()\n",
    "m1.reset_index(inplace=True)\n",
    "m1.rename({'user_id':'buyers'}, axis=1, inplace=True)\n",
    "m1"
   ]
  },
  {
   "cell_type": "code",
   "execution_count": 153,
   "metadata": {},
   "outputs": [],
   "source": [
    "m1.date = pd.to_datetime(m1.date)"
   ]
  },
  {
   "cell_type": "code",
   "execution_count": 154,
   "metadata": {},
   "outputs": [],
   "source": [
    "m1.date = pd.to_datetime(m1.date, format='%Y:%m:%d').dt.date"
   ]
  },
  {
   "cell_type": "code",
   "execution_count": 155,
   "metadata": {},
   "outputs": [
    {
     "data": {
      "text/plain": [
       "(array([ 0,  1,  2,  3,  4,  5,  6,  7,  8,  9, 10, 11, 12, 13, 14, 15, 16,\n",
       "        17, 18, 19, 20, 21, 22, 23, 24, 25, 26, 27, 28, 29]),\n",
       " <a list of 30 Text xticklabel objects>)"
      ]
     },
     "execution_count": 155,
     "metadata": {},
     "output_type": "execute_result"
    },
    {
     "data": {
      "image/png": "[encoded data removed]",
      "text/plain": [
       "<Figure size 1080x360 with 1 Axes>"
      ]
     },
     "metadata": {
      "needs_background": "light"
     },
     "output_type": "display_data"
    }
   ],
   "source": [
    "plt.figure(figsize=(15,5))\n",
    "sns.barplot(data=m1, x='date', y='buyers', hue='products')\n",
    "plt.xticks(rotation=60)"
   ]
  },
  {
   "cell_type": "markdown",
   "metadata": {},
   "source": [
    "##### On 23rd and 24th of March there were the largest purchases (268, 254)"
   ]
  },
  {
   "cell_type": "code",
   "execution_count": null,
   "metadata": {},
   "outputs": [],
   "source": []
  }
 ],
 "metadata": {
  "kernelspec": {
   "display_name": "Python 3",
   "language": "python",
   "name": "python3"
  },
  "language_info": {
   "codemirror_mode": {
    "name": "ipython",
    "version": 3
   },
   "file_extension": ".py",
   "mimetype": "text/x-python",
   "name": "python",
   "nbconvert_exporter": "python",
   "pygments_lexer": "ipython3",
   "version": "3.7.4"
  }
 },
 "nbformat": 4,
 "nbformat_minor": 2
}
